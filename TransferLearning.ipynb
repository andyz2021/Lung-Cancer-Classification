{
  "nbformat": 4,
  "nbformat_minor": 0,
  "metadata": {
    "colab": {
      "name": "TransferLearning.ipynb",
      "provenance": [],
      "toc_visible": true,
      "include_colab_link": true
    },
    "kernelspec": {
      "name": "python3",
      "display_name": "Python 3"
    },
    "accelerator": "GPU"
  },
  "cells": [
    {
      "cell_type": "markdown",
      "metadata": {
        "id": "view-in-github",
        "colab_type": "text"
      },
      "source": [
        "<a href=\"https://colab.research.google.com/github/andyz2021/Lung-Cancer-Classification/blob/master/TransferLearning.ipynb\" target=\"_parent\"><img src=\"https://colab.research.google.com/assets/colab-badge.svg\" alt=\"Open In Colab\"/></a>"
      ]
    },
    {
      "cell_type": "code",
      "metadata": {
        "id": "UqjLESpQeUaX",
        "colab_type": "code",
        "colab": {
          "base_uri": "https://localhost:8080/",
          "height": 122
        },
        "outputId": "a2a1f211-c4d4-4b35-b0f5-2e56a7b54548"
      },
      "source": [
        "#Mount drive\n",
        "from google.colab import drive\n",
        "drive.mount('/content/drive')"
      ],
      "execution_count": 1,
      "outputs": [
        {
          "output_type": "stream",
          "text": [
            "Go to this URL in a browser: https://accounts.google.com/o/oauth2/auth?client_id=947318989803-6bn6qk8qdgf4n4g3pfee6491hc0brc4i.apps.googleusercontent.com&redirect_uri=urn%3aietf%3awg%3aoauth%3a2.0%3aoob&response_type=code&scope=email%20https%3a%2f%2fwww.googleapis.com%2fauth%2fdocs.test%20https%3a%2f%2fwww.googleapis.com%2fauth%2fdrive%20https%3a%2f%2fwww.googleapis.com%2fauth%2fdrive.photos.readonly%20https%3a%2f%2fwww.googleapis.com%2fauth%2fpeopleapi.readonly\n",
            "\n",
            "Enter your authorization code:\n",
            "··········\n",
            "Mounted at /content/drive\n"
          ],
          "name": "stdout"
        }
      ]
    },
    {
      "cell_type": "code",
      "metadata": {
        "id": "OA3Z3Z6-8zeR",
        "colab_type": "code",
        "colab": {
          "base_uri": "https://localhost:8080/",
          "height": 34
        },
        "outputId": "dd125883-14e0-4808-fb29-ef88c273d010"
      },
      "source": [
        "#Make sure your starting directory is empty\n",
        "%cd .."
      ],
      "execution_count": 2,
      "outputs": [
        {
          "output_type": "stream",
          "text": [
            "/\n"
          ],
          "name": "stdout"
        }
      ]
    },
    {
      "cell_type": "markdown",
      "metadata": {
        "id": "vw_O8_S_8yCb",
        "colab_type": "text"
      },
      "source": [
        "#Import packages and read data"
      ]
    },
    {
      "cell_type": "code",
      "metadata": {
        "id": "ASn1mjSUfAKq",
        "colab_type": "code",
        "colab": {
          "base_uri": "https://localhost:8080/",
          "height": 855
        },
        "outputId": "8b698f49-0f7e-45c5-aedb-85560c952326"
      },
      "source": [
        "engine='python'\n",
        "print(\"done\")\n",
        "import pandas as pd\n",
        "from os import listdir\n",
        "from os.path import isfile, join\n",
        "import scipy as sp\n",
        "import numpy as np\n",
        "import pandas as pd\n",
        "import PIL\n",
        "import scipy.ndimage as spi\n",
        "import matplotlib.pyplot as plt\n",
        "%matplotlib inline\n",
        "print(\"done\")\n",
        "df = pd.read_csv('/content/drive/My Drive/LungCancerData/NSCLC.csv')\n",
        "#df=df[::2]\n",
        "df.to_csv(\"/content/drive/My Drive/LungCancerData/NSCLC.csv\", header=[\"File path\", \"Subtype\"], index=False)\n",
        "rows_we_want = [row for i,row in enumerate(df.index) if not i % 2]\n",
        "#odd_rows =[row for i,row in enumerate(df.index) if  i % 2]\n",
        "df_new = df.loc[rows_we_want]\n",
        "#df_odd= df.loc[odd_rows]\n",
        "display(df)\n",
        "display(df_new)\n",
        "#display(df_odd)"
      ],
      "execution_count": 3,
      "outputs": [
        {
          "output_type": "stream",
          "text": [
            "done\n",
            "done\n"
          ],
          "name": "stdout"
        },
        {
          "output_type": "display_data",
          "data": {
            "text/html": [
              "<div>\n",
              "<style scoped>\n",
              "    .dataframe tbody tr th:only-of-type {\n",
              "        vertical-align: middle;\n",
              "    }\n",
              "\n",
              "    .dataframe tbody tr th {\n",
              "        vertical-align: top;\n",
              "    }\n",
              "\n",
              "    .dataframe thead th {\n",
              "        text-align: right;\n",
              "    }\n",
              "</style>\n",
              "<table border=\"1\" class=\"dataframe\">\n",
              "  <thead>\n",
              "    <tr style=\"text-align: right;\">\n",
              "      <th></th>\n",
              "      <th>File path</th>\n",
              "      <th>Subtype</th>\n",
              "    </tr>\n",
              "  </thead>\n",
              "  <tbody>\n",
              "    <tr>\n",
              "      <th>0</th>\n",
              "      <td>/content/drive/My Drive/LungCancerData/LungCan...</td>\n",
              "      <td>Large Cell</td>\n",
              "    </tr>\n",
              "    <tr>\n",
              "      <th>1</th>\n",
              "      <td>/content/drive/My Drive/LungCancerData/LungCan...</td>\n",
              "      <td>Large Cell</td>\n",
              "    </tr>\n",
              "    <tr>\n",
              "      <th>2</th>\n",
              "      <td>/content/drive/My Drive/LungCancerData/LungCan...</td>\n",
              "      <td>Large Cell</td>\n",
              "    </tr>\n",
              "    <tr>\n",
              "      <th>3</th>\n",
              "      <td>/content/drive/My Drive/LungCancerData/LungCan...</td>\n",
              "      <td>Large Cell</td>\n",
              "    </tr>\n",
              "    <tr>\n",
              "      <th>4</th>\n",
              "      <td>/content/drive/My Drive/LungCancerData/LungCan...</td>\n",
              "      <td>Large Cell</td>\n",
              "    </tr>\n",
              "    <tr>\n",
              "      <th>...</th>\n",
              "      <td>...</td>\n",
              "      <td>...</td>\n",
              "    </tr>\n",
              "    <tr>\n",
              "      <th>37901</th>\n",
              "      <td>/content/drive/My Drive/LungCancerData/LungCan...</td>\n",
              "      <td>Squamous Cell Carcinoma</td>\n",
              "    </tr>\n",
              "    <tr>\n",
              "      <th>37902</th>\n",
              "      <td>/content/drive/My Drive/LungCancerData/LungCan...</td>\n",
              "      <td>Squamous Cell Carcinoma</td>\n",
              "    </tr>\n",
              "    <tr>\n",
              "      <th>37903</th>\n",
              "      <td>/content/drive/My Drive/LungCancerData/LungCan...</td>\n",
              "      <td>Squamous Cell Carcinoma</td>\n",
              "    </tr>\n",
              "    <tr>\n",
              "      <th>37904</th>\n",
              "      <td>/content/drive/My Drive/LungCancerData/LungCan...</td>\n",
              "      <td>Squamous Cell Carcinoma</td>\n",
              "    </tr>\n",
              "    <tr>\n",
              "      <th>37905</th>\n",
              "      <td>/content/drive/My Drive/LungCancerData/LungCan...</td>\n",
              "      <td>Squamous Cell Carcinoma</td>\n",
              "    </tr>\n",
              "  </tbody>\n",
              "</table>\n",
              "<p>37906 rows × 2 columns</p>\n",
              "</div>"
            ],
            "text/plain": [
              "                                               File path                  Subtype\n",
              "0      /content/drive/My Drive/LungCancerData/LungCan...               Large Cell\n",
              "1      /content/drive/My Drive/LungCancerData/LungCan...               Large Cell\n",
              "2      /content/drive/My Drive/LungCancerData/LungCan...               Large Cell\n",
              "3      /content/drive/My Drive/LungCancerData/LungCan...               Large Cell\n",
              "4      /content/drive/My Drive/LungCancerData/LungCan...               Large Cell\n",
              "...                                                  ...                      ...\n",
              "37901  /content/drive/My Drive/LungCancerData/LungCan...  Squamous Cell Carcinoma\n",
              "37902  /content/drive/My Drive/LungCancerData/LungCan...  Squamous Cell Carcinoma\n",
              "37903  /content/drive/My Drive/LungCancerData/LungCan...  Squamous Cell Carcinoma\n",
              "37904  /content/drive/My Drive/LungCancerData/LungCan...  Squamous Cell Carcinoma\n",
              "37905  /content/drive/My Drive/LungCancerData/LungCan...  Squamous Cell Carcinoma\n",
              "\n",
              "[37906 rows x 2 columns]"
            ]
          },
          "metadata": {
            "tags": []
          }
        },
        {
          "output_type": "display_data",
          "data": {
            "text/html": [
              "<div>\n",
              "<style scoped>\n",
              "    .dataframe tbody tr th:only-of-type {\n",
              "        vertical-align: middle;\n",
              "    }\n",
              "\n",
              "    .dataframe tbody tr th {\n",
              "        vertical-align: top;\n",
              "    }\n",
              "\n",
              "    .dataframe thead th {\n",
              "        text-align: right;\n",
              "    }\n",
              "</style>\n",
              "<table border=\"1\" class=\"dataframe\">\n",
              "  <thead>\n",
              "    <tr style=\"text-align: right;\">\n",
              "      <th></th>\n",
              "      <th>File path</th>\n",
              "      <th>Subtype</th>\n",
              "    </tr>\n",
              "  </thead>\n",
              "  <tbody>\n",
              "    <tr>\n",
              "      <th>0</th>\n",
              "      <td>/content/drive/My Drive/LungCancerData/LungCan...</td>\n",
              "      <td>Large Cell</td>\n",
              "    </tr>\n",
              "    <tr>\n",
              "      <th>2</th>\n",
              "      <td>/content/drive/My Drive/LungCancerData/LungCan...</td>\n",
              "      <td>Large Cell</td>\n",
              "    </tr>\n",
              "    <tr>\n",
              "      <th>4</th>\n",
              "      <td>/content/drive/My Drive/LungCancerData/LungCan...</td>\n",
              "      <td>Large Cell</td>\n",
              "    </tr>\n",
              "    <tr>\n",
              "      <th>6</th>\n",
              "      <td>/content/drive/My Drive/LungCancerData/LungCan...</td>\n",
              "      <td>Large Cell</td>\n",
              "    </tr>\n",
              "    <tr>\n",
              "      <th>8</th>\n",
              "      <td>/content/drive/My Drive/LungCancerData/LungCan...</td>\n",
              "      <td>Large Cell</td>\n",
              "    </tr>\n",
              "    <tr>\n",
              "      <th>...</th>\n",
              "      <td>...</td>\n",
              "      <td>...</td>\n",
              "    </tr>\n",
              "    <tr>\n",
              "      <th>37896</th>\n",
              "      <td>/content/drive/My Drive/LungCancerData/LungCan...</td>\n",
              "      <td>Squamous Cell Carcinoma</td>\n",
              "    </tr>\n",
              "    <tr>\n",
              "      <th>37898</th>\n",
              "      <td>/content/drive/My Drive/LungCancerData/LungCan...</td>\n",
              "      <td>Squamous Cell Carcinoma</td>\n",
              "    </tr>\n",
              "    <tr>\n",
              "      <th>37900</th>\n",
              "      <td>/content/drive/My Drive/LungCancerData/LungCan...</td>\n",
              "      <td>Squamous Cell Carcinoma</td>\n",
              "    </tr>\n",
              "    <tr>\n",
              "      <th>37902</th>\n",
              "      <td>/content/drive/My Drive/LungCancerData/LungCan...</td>\n",
              "      <td>Squamous Cell Carcinoma</td>\n",
              "    </tr>\n",
              "    <tr>\n",
              "      <th>37904</th>\n",
              "      <td>/content/drive/My Drive/LungCancerData/LungCan...</td>\n",
              "      <td>Squamous Cell Carcinoma</td>\n",
              "    </tr>\n",
              "  </tbody>\n",
              "</table>\n",
              "<p>18953 rows × 2 columns</p>\n",
              "</div>"
            ],
            "text/plain": [
              "                                               File path                  Subtype\n",
              "0      /content/drive/My Drive/LungCancerData/LungCan...               Large Cell\n",
              "2      /content/drive/My Drive/LungCancerData/LungCan...               Large Cell\n",
              "4      /content/drive/My Drive/LungCancerData/LungCan...               Large Cell\n",
              "6      /content/drive/My Drive/LungCancerData/LungCan...               Large Cell\n",
              "8      /content/drive/My Drive/LungCancerData/LungCan...               Large Cell\n",
              "...                                                  ...                      ...\n",
              "37896  /content/drive/My Drive/LungCancerData/LungCan...  Squamous Cell Carcinoma\n",
              "37898  /content/drive/My Drive/LungCancerData/LungCan...  Squamous Cell Carcinoma\n",
              "37900  /content/drive/My Drive/LungCancerData/LungCan...  Squamous Cell Carcinoma\n",
              "37902  /content/drive/My Drive/LungCancerData/LungCan...  Squamous Cell Carcinoma\n",
              "37904  /content/drive/My Drive/LungCancerData/LungCan...  Squamous Cell Carcinoma\n",
              "\n",
              "[18953 rows x 2 columns]"
            ]
          },
          "metadata": {
            "tags": []
          }
        }
      ]
    },
    {
      "cell_type": "code",
      "metadata": {
        "id": "TO80qpgJg1rC",
        "colab_type": "code",
        "colab": {
          "base_uri": "https://localhost:8080/",
          "height": 419
        },
        "outputId": "5be179e4-5529-4500-8f30-9b1b7f4a5cb0"
      },
      "source": [
        "# shuffles data\n",
        "np.random.seed(20)\n",
        "df_new = df_new.sample(frac=1) \n",
        "#df_odd=df_odd.sample(frac=1)\n",
        "display(df_new)\n",
        "#display(df_odd)"
      ],
      "execution_count": 4,
      "outputs": [
        {
          "output_type": "display_data",
          "data": {
            "text/html": [
              "<div>\n",
              "<style scoped>\n",
              "    .dataframe tbody tr th:only-of-type {\n",
              "        vertical-align: middle;\n",
              "    }\n",
              "\n",
              "    .dataframe tbody tr th {\n",
              "        vertical-align: top;\n",
              "    }\n",
              "\n",
              "    .dataframe thead th {\n",
              "        text-align: right;\n",
              "    }\n",
              "</style>\n",
              "<table border=\"1\" class=\"dataframe\">\n",
              "  <thead>\n",
              "    <tr style=\"text-align: right;\">\n",
              "      <th></th>\n",
              "      <th>File path</th>\n",
              "      <th>Subtype</th>\n",
              "    </tr>\n",
              "  </thead>\n",
              "  <tbody>\n",
              "    <tr>\n",
              "      <th>18524</th>\n",
              "      <td>/content/drive/My Drive/LungCancerData/LungCan...</td>\n",
              "      <td>Adenocarcinoma</td>\n",
              "    </tr>\n",
              "    <tr>\n",
              "      <th>16330</th>\n",
              "      <td>/content/drive/My Drive/LungCancerData/LungCan...</td>\n",
              "      <td>Adenocarcinoma</td>\n",
              "    </tr>\n",
              "    <tr>\n",
              "      <th>3142</th>\n",
              "      <td>/content/drive/My Drive/LungCancerData/LungCan...</td>\n",
              "      <td>Large Cell</td>\n",
              "    </tr>\n",
              "    <tr>\n",
              "      <th>37320</th>\n",
              "      <td>/content/drive/My Drive/LungCancerData/LungCan...</td>\n",
              "      <td>Squamous Cell Carcinoma</td>\n",
              "    </tr>\n",
              "    <tr>\n",
              "      <th>3936</th>\n",
              "      <td>/content/drive/My Drive/LungCancerData/LungCan...</td>\n",
              "      <td>Large Cell</td>\n",
              "    </tr>\n",
              "    <tr>\n",
              "      <th>...</th>\n",
              "      <td>...</td>\n",
              "      <td>...</td>\n",
              "    </tr>\n",
              "    <tr>\n",
              "      <th>3214</th>\n",
              "      <td>/content/drive/My Drive/LungCancerData/LungCan...</td>\n",
              "      <td>Large Cell</td>\n",
              "    </tr>\n",
              "    <tr>\n",
              "      <th>7830</th>\n",
              "      <td>/content/drive/My Drive/LungCancerData/LungCan...</td>\n",
              "      <td>Large Cell</td>\n",
              "    </tr>\n",
              "    <tr>\n",
              "      <th>29458</th>\n",
              "      <td>/content/drive/My Drive/LungCancerData/LungCan...</td>\n",
              "      <td>Squamous Cell Carcinoma</td>\n",
              "    </tr>\n",
              "    <tr>\n",
              "      <th>8734</th>\n",
              "      <td>/content/drive/My Drive/LungCancerData/LungCan...</td>\n",
              "      <td>Large Cell</td>\n",
              "    </tr>\n",
              "    <tr>\n",
              "      <th>31430</th>\n",
              "      <td>/content/drive/My Drive/LungCancerData/LungCan...</td>\n",
              "      <td>Squamous Cell Carcinoma</td>\n",
              "    </tr>\n",
              "  </tbody>\n",
              "</table>\n",
              "<p>18953 rows × 2 columns</p>\n",
              "</div>"
            ],
            "text/plain": [
              "                                               File path                  Subtype\n",
              "18524  /content/drive/My Drive/LungCancerData/LungCan...           Adenocarcinoma\n",
              "16330  /content/drive/My Drive/LungCancerData/LungCan...           Adenocarcinoma\n",
              "3142   /content/drive/My Drive/LungCancerData/LungCan...               Large Cell\n",
              "37320  /content/drive/My Drive/LungCancerData/LungCan...  Squamous Cell Carcinoma\n",
              "3936   /content/drive/My Drive/LungCancerData/LungCan...               Large Cell\n",
              "...                                                  ...                      ...\n",
              "3214   /content/drive/My Drive/LungCancerData/LungCan...               Large Cell\n",
              "7830   /content/drive/My Drive/LungCancerData/LungCan...               Large Cell\n",
              "29458  /content/drive/My Drive/LungCancerData/LungCan...  Squamous Cell Carcinoma\n",
              "8734   /content/drive/My Drive/LungCancerData/LungCan...               Large Cell\n",
              "31430  /content/drive/My Drive/LungCancerData/LungCan...  Squamous Cell Carcinoma\n",
              "\n",
              "[18953 rows x 2 columns]"
            ]
          },
          "metadata": {
            "tags": []
          }
        }
      ]
    },
    {
      "cell_type": "markdown",
      "metadata": {
        "id": "e6dJ1vMy8-y8",
        "colab_type": "text"
      },
      "source": [
        "#Split and load data"
      ]
    },
    {
      "cell_type": "code",
      "metadata": {
        "id": "sXxJtd0thMBi",
        "colab_type": "code",
        "colab": {}
      },
      "source": [
        "#Split into train, validation and test in a ratio of 70% 15% 15%, respectively\n",
        "test = df_new[:3600]\n",
        "val = df_new[3600:5400]\n",
        "train = df_new[5400:] \n",
        "\n",
        "train_labels = train[0:3000]\n",
        "train_target_labels = train_labels[\"Subtype\"]\n",
        "val_labels = val\n",
        "val_target_labels = val_labels[\"Subtype\"]\n"
      ],
      "execution_count": 5,
      "outputs": []
    },
    {
      "cell_type": "code",
      "metadata": {
        "id": "DoNsFtHMjzCz",
        "colab_type": "code",
        "colab": {
          "base_uri": "https://localhost:8080/",
          "height": 34
        },
        "outputId": "eac99479-78c7-43d4-9b11-e03cc23a4c7f"
      },
      "source": [
        "\n",
        "from sklearn.model_selection import train_test_split\n",
        "from keras.preprocessing.image import img_to_array, load_img\n",
        "\n",
        "# load train dataset\n",
        "train_data = np.array([img_to_array(load_img(img, target_size=(299, 299)))\n",
        "                           for img in train_labels['File path'].values.tolist()\n",
        "                      ]).astype('float32')\n",
        "x_train = train_data\n",
        "y_train = train_target_labels\n",
        "\n",
        "# load val dataset\n",
        "val_data = np.array([img_to_array(load_img(img, target_size=(299, 299)))\n",
        "                           for img in val_labels['File path'].values.tolist()\n",
        "                      ]).astype('float32')\n",
        "\n",
        "x_val = val_data\n",
        "y_val = val_target_labels\n",
        "\n",
        "print('Train and Validation Datasets Size:', x_train.shape, x_val.shape)"
      ],
      "execution_count": null,
      "outputs": [
        {
          "output_type": "stream",
          "text": [
            "Train and Validation Datasets Size: (3000, 299, 299, 3) (1800, 299, 299, 3)\n"
          ],
          "name": "stdout"
        }
      ]
    },
    {
      "cell_type": "markdown",
      "metadata": {
        "id": "_P45p1G49By4",
        "colab_type": "text"
      },
      "source": [
        "#One hot encoding"
      ]
    },
    {
      "cell_type": "code",
      "metadata": {
        "id": "cMMLlG36kh4v",
        "colab_type": "code",
        "colab": {
          "base_uri": "https://localhost:8080/",
          "height": 34
        },
        "outputId": "5db1ef8f-dcdf-42f8-9b13-4b712bb74515"
      },
      "source": [
        "import numpy as np\n",
        "import pandas as pd\n",
        "y_train_ohe = np.matrix(pd.get_dummies(y_train.reset_index(drop=True)))\n",
        "y_val_ohe = np.matrix(pd.get_dummies(y_val.reset_index(drop=True)))\n",
        "y_train_ohe.shape, y_val_ohe.shape"
      ],
      "execution_count": null,
      "outputs": [
        {
          "output_type": "execute_result",
          "data": {
            "text/plain": [
              "((3000, 3), (1800, 3))"
            ]
          },
          "metadata": {
            "tags": []
          },
          "execution_count": 6
        }
      ]
    },
    {
      "cell_type": "markdown",
      "metadata": {
        "id": "dWaLFfhH9Dq9",
        "colab_type": "text"
      },
      "source": [
        "#Data generation"
      ]
    },
    {
      "cell_type": "code",
      "metadata": {
        "id": "M6SXE6OgI6WA",
        "colab_type": "code",
        "colab": {}
      },
      "source": [
        "from keras.preprocessing.image import ImageDataGenerator\n",
        "BATCH_SIZE = 32\n",
        "\n",
        "# Create train generator.\n",
        "train_datagen = ImageDataGenerator(rescale=1./255, \n",
        "                                   rotation_range=30, \n",
        "                                   width_shift_range=0.2,\n",
        "                                   height_shift_range=0.2, \n",
        "                                   horizontal_flip = 'true')\n",
        "train_generator = train_datagen.flow(x_train, y_train_ohe, shuffle=False, \n",
        "                                     batch_size=BATCH_SIZE, seed=1)\n",
        "                     \n",
        "# Create validation generator\n",
        "val_datagen = ImageDataGenerator(rescale = 1./255)\n",
        "val_generator = val_datagen.flow(x_val, y_val_ohe, shuffle=False, \n",
        "                                   batch_size=BATCH_SIZE, seed=1) "
      ],
      "execution_count": null,
      "outputs": []
    },
    {
      "cell_type": "markdown",
      "metadata": {
        "id": "lz5rqjeI9F2v",
        "colab_type": "text"
      },
      "source": [
        "#Import model"
      ]
    },
    {
      "cell_type": "code",
      "metadata": {
        "id": "zQx8OIuKJedw",
        "colab_type": "code",
        "colab": {
          "base_uri": "https://localhost:8080/",
          "height": 266
        },
        "outputId": "34295f72-3d90-4747-e203-f3f1d41664dd"
      },
      "source": [
        "from keras.models import Model\n",
        "from keras.optimizers import Adam\n",
        "from keras.layers import GlobalAveragePooling2D\n",
        "from keras.layers import Dense\n",
        "from keras.applications.inception_v3 import InceptionV3\n",
        "from keras.utils.np_utils import to_categorical\n",
        "from keras.models import load_model\n",
        "\n",
        "loaded_model=load_model('/content/drive/My Drive/LungCancerData/model00070_0.843324_0.587834.h5')\n",
        "loaded_model.layers.pop()\n",
        "#Import Inception V3\n",
        "base_inception = InceptionV3(weights='imagenet', include_top=False, \n",
        "                             input_shape=(299, 299, 3))\n",
        "                             \n",
        "# Add a global spatial average pooling layer\n",
        "out = base_inception.output\n",
        "out = GlobalAveragePooling2D()(out)\n",
        "out = Dense(512, activation='relu')(out)\n",
        "out = Dense(512, activation='relu')(out)\n",
        "total_classes = y_train_ohe.shape[1]\n",
        "predictions = Dense(total_classes, activation='softmax')(out)\n",
        "loaded_model = Model(inputs=base_inception.input, outputs=predictions)\n",
        "\n",
        "# only if we want to freeze layers\n",
        "# for layer in base_inception.layers:\n",
        "#     layer.trainable = False\n",
        "    \n",
        "# Compile \n",
        "loaded_model.compile(Adam(lr=.0001), loss='categorical_crossentropy', metrics=['accuracy']) \n",
        "loaded_model.summary()\n"
      ],
      "execution_count": null,
      "outputs": [
        {
          "output_type": "stream",
          "text": [
            "Downloading data from https://github.com/fchollet/deep-learning-models/releases/download/v0.5/inception_v3_weights_tf_dim_ordering_tf_kernels_notop.h5\n",
            "87916544/87910968 [==============================] - 3s 0us/step\n"
          ],
          "name": "stdout"
        },
        {
          "output_type": "error",
          "ename": "NameError",
          "evalue": "ignored",
          "traceback": [
            "\u001b[0;31m---------------------------------------------------------------------------\u001b[0m",
            "\u001b[0;31mNameError\u001b[0m                                 Traceback (most recent call last)",
            "\u001b[0;32m<ipython-input-10-3973371ad3f9>\u001b[0m in \u001b[0;36m<module>\u001b[0;34m()\u001b[0m\n\u001b[1;32m     18\u001b[0m \u001b[0mout\u001b[0m \u001b[0;34m=\u001b[0m \u001b[0mDense\u001b[0m\u001b[0;34m(\u001b[0m\u001b[0;36m512\u001b[0m\u001b[0;34m,\u001b[0m \u001b[0mactivation\u001b[0m\u001b[0;34m=\u001b[0m\u001b[0;34m'relu'\u001b[0m\u001b[0;34m)\u001b[0m\u001b[0;34m(\u001b[0m\u001b[0mout\u001b[0m\u001b[0;34m)\u001b[0m\u001b[0;34m\u001b[0m\u001b[0;34m\u001b[0m\u001b[0m\n\u001b[1;32m     19\u001b[0m \u001b[0mout\u001b[0m \u001b[0;34m=\u001b[0m \u001b[0mDense\u001b[0m\u001b[0;34m(\u001b[0m\u001b[0;36m512\u001b[0m\u001b[0;34m,\u001b[0m \u001b[0mactivation\u001b[0m\u001b[0;34m=\u001b[0m\u001b[0;34m'relu'\u001b[0m\u001b[0;34m)\u001b[0m\u001b[0;34m(\u001b[0m\u001b[0mout\u001b[0m\u001b[0;34m)\u001b[0m\u001b[0;34m\u001b[0m\u001b[0;34m\u001b[0m\u001b[0m\n\u001b[0;32m---> 20\u001b[0;31m \u001b[0mtotal_classes\u001b[0m \u001b[0;34m=\u001b[0m \u001b[0my_train_ohe\u001b[0m\u001b[0;34m.\u001b[0m\u001b[0mshape\u001b[0m\u001b[0;34m[\u001b[0m\u001b[0;36m1\u001b[0m\u001b[0;34m]\u001b[0m\u001b[0;34m\u001b[0m\u001b[0;34m\u001b[0m\u001b[0m\n\u001b[0m\u001b[1;32m     21\u001b[0m \u001b[0mpredictions\u001b[0m \u001b[0;34m=\u001b[0m \u001b[0mDense\u001b[0m\u001b[0;34m(\u001b[0m\u001b[0mtotal_classes\u001b[0m\u001b[0;34m,\u001b[0m \u001b[0mactivation\u001b[0m\u001b[0;34m=\u001b[0m\u001b[0;34m'softmax'\u001b[0m\u001b[0;34m)\u001b[0m\u001b[0;34m(\u001b[0m\u001b[0mout\u001b[0m\u001b[0;34m)\u001b[0m\u001b[0;34m\u001b[0m\u001b[0;34m\u001b[0m\u001b[0m\n\u001b[1;32m     22\u001b[0m \u001b[0mloaded_model\u001b[0m \u001b[0;34m=\u001b[0m \u001b[0mModel\u001b[0m\u001b[0;34m(\u001b[0m\u001b[0minputs\u001b[0m\u001b[0;34m=\u001b[0m\u001b[0mbase_inception\u001b[0m\u001b[0;34m.\u001b[0m\u001b[0minput\u001b[0m\u001b[0;34m,\u001b[0m \u001b[0moutputs\u001b[0m\u001b[0;34m=\u001b[0m\u001b[0mpredictions\u001b[0m\u001b[0;34m)\u001b[0m\u001b[0;34m\u001b[0m\u001b[0;34m\u001b[0m\u001b[0m\n",
            "\u001b[0;31mNameError\u001b[0m: name 'y_train_ohe' is not defined"
          ]
        }
      ]
    },
    {
      "cell_type": "markdown",
      "metadata": {
        "id": "fM412zj98k_q",
        "colab_type": "text"
      },
      "source": [
        "#Test run"
      ]
    },
    {
      "cell_type": "code",
      "metadata": {
        "id": "kCntIYm9JrAH",
        "colab_type": "code",
        "colab": {
          "base_uri": "https://localhost:8080/",
          "height": 697
        },
        "outputId": "45527a0f-6bd2-43c7-d3a7-241363c64901"
      },
      "source": [
        "# Train the model\n",
        "#import tensorflow as tf\n",
        "import keras\n",
        "from keras.callbacks import ModelCheckpoint\n",
        "batch_size = BATCH_SIZE\n",
        "train_steps_per_epoch = x_train.shape[0] // batch_size\n",
        "val_steps_per_epoch = x_val.shape[0] // batch_size\n",
        "\n",
        "\n",
        "checkpoint = [keras.callbacks.ModelCheckpoint('content/drive/My Drive/LungCancerData/Model Checkpoints/model{epoch:03d}_{val_accuracy:05f}_{val_loss:05f}.hdf5', period=5)]\n",
        "\n",
        "history = loaded_model.fit(train_generator,\n",
        "                              steps_per_epoch=train_steps_per_epoch,\n",
        "                              validation_data=val_generator,\n",
        "                              validation_steps=val_steps_per_epoch,\n",
        "                              epochs=20, verbose=1, callbacks=checkpoint)"
      ],
      "execution_count": null,
      "outputs": [
        {
          "output_type": "stream",
          "text": [
            "Epoch 1/20\n",
            "93/93 [==============================] - 184s 2s/step - loss: 0.1191 - accuracy: 0.9528 - val_loss: 1.2495 - val_accuracy: 0.6468\n",
            "Epoch 2/20\n",
            "93/93 [==============================] - 188s 2s/step - loss: 0.1069 - accuracy: 0.9552 - val_loss: 1.4682 - val_accuracy: 0.6680\n",
            "Epoch 3/20\n",
            "93/93 [==============================] - 187s 2s/step - loss: 0.1219 - accuracy: 0.9569 - val_loss: 1.1290 - val_accuracy: 0.6793\n",
            "Epoch 4/20\n",
            "93/93 [==============================] - 187s 2s/step - loss: 0.0812 - accuracy: 0.9737 - val_loss: 1.2131 - val_accuracy: 0.6046\n",
            "Epoch 5/20\n",
            "93/93 [==============================] - 187s 2s/step - loss: 0.1253 - accuracy: 0.9538 - val_loss: 1.9612 - val_accuracy: 0.6482\n",
            "Epoch 6/20\n",
            "93/93 [==============================] - 187s 2s/step - loss: 0.0877 - accuracy: 0.9690 - val_loss: 1.3249 - val_accuracy: 0.6963\n",
            "Epoch 7/20\n",
            "93/93 [==============================] - 186s 2s/step - loss: 0.0803 - accuracy: 0.9710 - val_loss: 2.5723 - val_accuracy: 0.6736\n",
            "Epoch 8/20\n",
            "93/93 [==============================] - 186s 2s/step - loss: 0.0786 - accuracy: 0.9714 - val_loss: 1.1482 - val_accuracy: 0.6742\n",
            "Epoch 9/20\n",
            "93/93 [==============================] - 185s 2s/step - loss: 0.0760 - accuracy: 0.9741 - val_loss: 2.5054 - val_accuracy: 0.6833\n",
            "Epoch 10/20\n",
            "93/93 [==============================] - 185s 2s/step - loss: 0.0811 - accuracy: 0.9727 - val_loss: 1.5279 - val_accuracy: 0.6793\n",
            "Epoch 11/20\n",
            "93/93 [==============================] - 185s 2s/step - loss: 0.0785 - accuracy: 0.9751 - val_loss: 1.6964 - val_accuracy: 0.6397\n",
            "Epoch 12/20\n",
            "93/93 [==============================] - 184s 2s/step - loss: 0.0812 - accuracy: 0.9733 - val_loss: 1.3241 - val_accuracy: 0.6092\n",
            "Epoch 13/20\n",
            "93/93 [==============================] - 184s 2s/step - loss: 0.0682 - accuracy: 0.9771 - val_loss: 1.7535 - val_accuracy: 0.6612\n",
            "Epoch 14/20\n",
            "93/93 [==============================] - 184s 2s/step - loss: 0.0643 - accuracy: 0.9811 - val_loss: 1.2995 - val_accuracy: 0.6793\n",
            "Epoch 15/20\n",
            "93/93 [==============================] - 183s 2s/step - loss: 0.0925 - accuracy: 0.9656 - val_loss: 2.4106 - val_accuracy: 0.5899\n",
            "Epoch 16/20\n",
            "93/93 [==============================] - 183s 2s/step - loss: 0.0705 - accuracy: 0.9734 - val_loss: 1.9901 - val_accuracy: 0.6657\n",
            "Epoch 17/20\n",
            "93/93 [==============================] - 183s 2s/step - loss: 0.0603 - accuracy: 0.9781 - val_loss: 1.5468 - val_accuracy: 0.6804\n",
            "Epoch 18/20\n",
            "93/93 [==============================] - 182s 2s/step - loss: 0.0556 - accuracy: 0.9781 - val_loss: 0.5061 - val_accuracy: 0.7059\n",
            "Epoch 19/20\n",
            "93/93 [==============================] - 182s 2s/step - loss: 0.0642 - accuracy: 0.9778 - val_loss: 1.5946 - val_accuracy: 0.6867\n",
            "Epoch 20/20\n",
            "93/93 [==============================] - 181s 2s/step - loss: 0.0452 - accuracy: 0.9848 - val_loss: 1.2697 - val_accuracy: 0.6550\n"
          ],
          "name": "stdout"
        }
      ]
    },
    {
      "cell_type": "code",
      "metadata": {
        "id": "qHd_2fMLM_O9",
        "colab_type": "code",
        "colab": {
          "base_uri": "https://localhost:8080/",
          "height": 287
        },
        "outputId": "2eca02c0-8aa9-4999-d6dd-25ec2fc01ed6"
      },
      "source": [
        "f, (ax1, ax2) = plt.subplots(1, 2, figsize=(12, 4))\n",
        "f.subplots_adjust(top=0.85, wspace=0.3)\n",
        "\n",
        "epoch_list = list(range(1,21))\n",
        "ax1.plot(epoch_list, history.history['accuracy'], label='Train Accuracy')\n",
        "ax1.plot(epoch_list, history.history['val_accuracy'], label='Validation Accuracy')\n",
        "ax1.set_xticks(np.arange(0, 21, 1))\n",
        "ax1.set_ylabel('Accuracy Value')\n",
        "ax1.set_xlabel('Epoch')\n",
        "ax1.set_title('Accuracy')\n",
        "l1 = ax1.legend(loc=\"best\")\n",
        "\n",
        "ax2.plot(epoch_list, history.history['loss'], label='Train Loss')\n",
        "ax2.plot(epoch_list, history.history['val_loss'], label='Validation Loss')\n",
        "ax2.set_xticks(np.arange(0, 21, 1))\n",
        "ax2.set_ylabel('Loss Value')\n",
        "ax2.set_xlabel('Epoch')\n",
        "ax2.set_title('Loss')\n",
        "l2 = ax2.legend(loc=\"best\")\n",
        "plt.savefig(\"plot1.png\")"
      ],
      "execution_count": null,
      "outputs": [
        {
          "output_type": "display_data",
          "data": {
            "image/png": "[encoded data removed]",
            "text/plain": [
              "<Figure size 864x288 with 2 Axes>"
            ]
          },
          "metadata": {
            "tags": [],
            "needs_background": "light"
          }
        }
      ]
    },
    {
      "cell_type": "markdown",
      "metadata": {
        "id": "i64igOR8EPOe",
        "colab_type": "text"
      },
      "source": [
        "#Batch 1"
      ]
    },
    {
      "cell_type": "code",
      "metadata": {
        "id": "fCkEeSsdLxbw",
        "colab_type": "code",
        "colab": {
          "base_uri": "https://localhost:8080/",
          "height": 1000
        },
        "outputId": "5950ff7b-4067-44f5-bed2-c27b0ca1efb3"
      },
      "source": [
        "# Train the model\n",
        "#import tensorflow as tf\n",
        "import keras\n",
        "from keras.callbacks import ModelCheckpoint\n",
        "batch_size = BATCH_SIZE\n",
        "train_steps_per_epoch = x_train.shape[0] // batch_size\n",
        "val_steps_per_epoch = x_val.shape[0] // batch_size\n",
        "\n",
        "#Images 3000-6000\n",
        "model_1=load_model('/content/drive/My Drive/LungCancerData/Model Checkpoints/model010_0.679299_1.527921.hdf5')\n",
        "\n",
        "\n",
        "checkpoint = [keras.callbacks.ModelCheckpoint('content/drive/My Drive/LungCancerData/Model Checkpoints/model{epoch:03d}_{val_accuracy:05f}_{val_loss:05f}.hdf5', period=5)]\n",
        "\n",
        "history = model_1.fit(train_generator,\n",
        "                              steps_per_epoch=train_steps_per_epoch,\n",
        "                              validation_data=val_generator,\n",
        "                              validation_steps=val_steps_per_epoch,\n",
        "                              epochs=50, verbose=1, callbacks=checkpoint)"
      ],
      "execution_count": null,
      "outputs": [
        {
          "output_type": "stream",
          "text": [
            "Epoch 1/50\n",
            "93/93 [==============================] - 217s 2s/step - loss: 0.7946 - accuracy: 0.6914 - val_loss: 0.8428 - val_accuracy: 0.6629\n",
            "Epoch 2/50\n",
            "93/93 [==============================] - 187s 2s/step - loss: 0.4955 - accuracy: 0.7975 - val_loss: 0.5960 - val_accuracy: 0.7353\n",
            "Epoch 3/50\n",
            "93/93 [==============================] - 187s 2s/step - loss: 0.3716 - accuracy: 0.8551 - val_loss: 0.6768 - val_accuracy: 0.7138\n",
            "Epoch 4/50\n",
            "93/93 [==============================] - 187s 2s/step - loss: 0.3004 - accuracy: 0.8790 - val_loss: 0.5848 - val_accuracy: 0.6997\n",
            "Epoch 5/50\n",
            "93/93 [==============================] - 187s 2s/step - loss: 0.2429 - accuracy: 0.9121 - val_loss: 0.7783 - val_accuracy: 0.7019\n",
            "Epoch 6/50\n",
            "93/93 [==============================] - 187s 2s/step - loss: 0.2099 - accuracy: 0.9252 - val_loss: 0.6398 - val_accuracy: 0.7460\n",
            "Epoch 7/50\n",
            "93/93 [==============================] - 186s 2s/step - loss: 0.1829 - accuracy: 0.9330 - val_loss: 0.9331 - val_accuracy: 0.7675\n",
            "Epoch 8/50\n",
            "93/93 [==============================] - 185s 2s/step - loss: 0.1484 - accuracy: 0.9458 - val_loss: 0.8200 - val_accuracy: 0.7500\n",
            "Epoch 9/50\n",
            "93/93 [==============================] - 185s 2s/step - loss: 0.1516 - accuracy: 0.9458 - val_loss: 1.2038 - val_accuracy: 0.7081\n",
            "Epoch 10/50\n",
            "93/93 [==============================] - 184s 2s/step - loss: 0.1128 - accuracy: 0.9606 - val_loss: 0.5571 - val_accuracy: 0.7042\n",
            "Epoch 11/50\n",
            "93/93 [==============================] - 185s 2s/step - loss: 0.0969 - accuracy: 0.9653 - val_loss: 0.4882 - val_accuracy: 0.7466\n",
            "Epoch 12/50\n",
            "93/93 [==============================] - 184s 2s/step - loss: 0.1318 - accuracy: 0.9586 - val_loss: 0.9364 - val_accuracy: 0.7455\n",
            "Epoch 13/50\n",
            "93/93 [==============================] - 184s 2s/step - loss: 0.0881 - accuracy: 0.9717 - val_loss: 0.8377 - val_accuracy: 0.7268\n",
            "Epoch 14/50\n",
            "93/93 [==============================] - 183s 2s/step - loss: 0.0862 - accuracy: 0.9690 - val_loss: 0.7071 - val_accuracy: 0.7579\n",
            "Epoch 15/50\n",
            "93/93 [==============================] - 183s 2s/step - loss: 0.0717 - accuracy: 0.9757 - val_loss: 0.9967 - val_accuracy: 0.7596\n",
            "Epoch 16/50\n",
            "93/93 [==============================] - 183s 2s/step - loss: 0.0863 - accuracy: 0.9720 - val_loss: 1.5835 - val_accuracy: 0.7641\n",
            "Epoch 17/50\n",
            "93/93 [==============================] - 182s 2s/step - loss: 0.0538 - accuracy: 0.9815 - val_loss: 0.6630 - val_accuracy: 0.7856\n",
            "Epoch 18/50\n",
            "93/93 [==============================] - 182s 2s/step - loss: 0.0889 - accuracy: 0.9691 - val_loss: 1.3227 - val_accuracy: 0.7472\n",
            "Epoch 19/50\n",
            "93/93 [==============================] - 181s 2s/step - loss: 0.0774 - accuracy: 0.9706 - val_loss: 1.1587 - val_accuracy: 0.7387\n",
            "Epoch 20/50\n",
            "93/93 [==============================] - 181s 2s/step - loss: 0.0569 - accuracy: 0.9828 - val_loss: 0.4636 - val_accuracy: 0.7771\n",
            "Epoch 21/50\n",
            "93/93 [==============================] - 181s 2s/step - loss: 0.0566 - accuracy: 0.9815 - val_loss: 1.1073 - val_accuracy: 0.7579\n",
            "Epoch 22/50\n",
            "93/93 [==============================] - 181s 2s/step - loss: 0.0480 - accuracy: 0.9825 - val_loss: 1.0990 - val_accuracy: 0.8026\n",
            "Epoch 23/50\n",
            "93/93 [==============================] - 182s 2s/step - loss: 0.0350 - accuracy: 0.9882 - val_loss: 0.9563 - val_accuracy: 0.7828\n",
            "Epoch 24/50\n",
            "93/93 [==============================] - 181s 2s/step - loss: 0.0655 - accuracy: 0.9770 - val_loss: 0.5407 - val_accuracy: 0.7376\n",
            "Epoch 25/50\n",
            "93/93 [==============================] - 181s 2s/step - loss: 0.0835 - accuracy: 0.9724 - val_loss: 1.7689 - val_accuracy: 0.7483\n",
            "Epoch 26/50\n",
            "93/93 [==============================] - 181s 2s/step - loss: 0.0655 - accuracy: 0.9768 - val_loss: 1.9331 - val_accuracy: 0.7342\n",
            "Epoch 27/50\n",
            "93/93 [==============================] - 181s 2s/step - loss: 0.0665 - accuracy: 0.9778 - val_loss: 0.8327 - val_accuracy: 0.7732\n",
            "Epoch 28/50\n",
            "93/93 [==============================] - 181s 2s/step - loss: 0.0443 - accuracy: 0.9855 - val_loss: 1.5743 - val_accuracy: 0.7675\n",
            "Epoch 29/50\n",
            "93/93 [==============================] - 181s 2s/step - loss: 0.0573 - accuracy: 0.9798 - val_loss: 0.7190 - val_accuracy: 0.7721\n",
            "Epoch 30/50\n",
            "93/93 [==============================] - 180s 2s/step - loss: 0.0419 - accuracy: 0.9862 - val_loss: 2.0529 - val_accuracy: 0.7805\n",
            "Epoch 31/50\n",
            "93/93 [==============================] - 180s 2s/step - loss: 0.0230 - accuracy: 0.9929 - val_loss: 0.6013 - val_accuracy: 0.8207\n",
            "Epoch 32/50\n",
            "93/93 [==============================] - 181s 2s/step - loss: 0.0118 - accuracy: 0.9970 - val_loss: 0.7797 - val_accuracy: 0.8026\n",
            "Epoch 33/50\n",
            "93/93 [==============================] - 181s 2s/step - loss: 0.0346 - accuracy: 0.9861 - val_loss: 1.6603 - val_accuracy: 0.7443\n",
            "Epoch 34/50\n",
            "93/93 [==============================] - 181s 2s/step - loss: 0.0780 - accuracy: 0.9724 - val_loss: 1.2537 - val_accuracy: 0.6957\n",
            "Epoch 35/50\n",
            "93/93 [==============================] - 181s 2s/step - loss: 0.0754 - accuracy: 0.9751 - val_loss: 0.6057 - val_accuracy: 0.7828\n",
            "Epoch 36/50\n",
            "93/93 [==============================] - 182s 2s/step - loss: 0.0467 - accuracy: 0.9849 - val_loss: 0.8506 - val_accuracy: 0.7257\n",
            "Epoch 37/50\n",
            "93/93 [==============================] - 181s 2s/step - loss: 0.0343 - accuracy: 0.9861 - val_loss: 0.5299 - val_accuracy: 0.7771\n",
            "Epoch 38/50\n",
            "93/93 [==============================] - 181s 2s/step - loss: 0.0541 - accuracy: 0.9821 - val_loss: 0.7204 - val_accuracy: 0.7613\n",
            "Epoch 39/50\n",
            "93/93 [==============================] - 181s 2s/step - loss: 0.0647 - accuracy: 0.9768 - val_loss: 0.6446 - val_accuracy: 0.7342\n",
            "Epoch 40/50\n",
            "93/93 [==============================] - 181s 2s/step - loss: 0.0559 - accuracy: 0.9805 - val_loss: 1.0707 - val_accuracy: 0.7251\n",
            "Epoch 41/50\n",
            "93/93 [==============================] - 181s 2s/step - loss: 0.0645 - accuracy: 0.9768 - val_loss: 0.7031 - val_accuracy: 0.7511\n",
            "Epoch 42/50\n",
            "93/93 [==============================] - 181s 2s/step - loss: 0.0460 - accuracy: 0.9849 - val_loss: 0.8669 - val_accuracy: 0.7845\n",
            "Epoch 43/50\n",
            "93/93 [==============================] - 181s 2s/step - loss: 0.0221 - accuracy: 0.9923 - val_loss: 0.7795 - val_accuracy: 0.8122\n",
            "Epoch 44/50\n",
            "93/93 [==============================] - 181s 2s/step - loss: 0.0231 - accuracy: 0.9936 - val_loss: 0.9396 - val_accuracy: 0.7936\n",
            "Epoch 45/50\n",
            "93/93 [==============================] - 181s 2s/step - loss: 0.0332 - accuracy: 0.9903 - val_loss: 0.8812 - val_accuracy: 0.7958\n",
            "Epoch 46/50\n",
            "93/93 [==============================] - 181s 2s/step - loss: 0.0533 - accuracy: 0.9824 - val_loss: 0.3957 - val_accuracy: 0.7817\n",
            "Epoch 47/50\n",
            "93/93 [==============================] - 181s 2s/step - loss: 0.0386 - accuracy: 0.9872 - val_loss: 0.9828 - val_accuracy: 0.7404\n",
            "Epoch 48/50\n",
            "93/93 [==============================] - 181s 2s/step - loss: 0.0249 - accuracy: 0.9909 - val_loss: 1.2697 - val_accuracy: 0.7528\n",
            "Epoch 49/50\n",
            "93/93 [==============================] - 181s 2s/step - loss: 0.0364 - accuracy: 0.9889 - val_loss: 1.6083 - val_accuracy: 0.6810\n",
            "Epoch 50/50\n",
            "93/93 [==============================] - 181s 2s/step - loss: 0.0422 - accuracy: 0.9842 - val_loss: 1.8493 - val_accuracy: 0.7325\n"
          ],
          "name": "stdout"
        }
      ]
    },
    {
      "cell_type": "code",
      "metadata": {
        "id": "pvCnQmDXJrkd",
        "colab_type": "code",
        "colab": {}
      },
      "source": [
        "hist_r1_df = pd.DataFrame(history.history) \n",
        "hist_r1_df.to_csv(r'/content/drive/My Drive/LungCancerData/Model Checkpoints/History round 1.csv', index = False)"
      ],
      "execution_count": null,
      "outputs": []
    },
    {
      "cell_type": "code",
      "metadata": {
        "id": "x_x4lbTRk9fI",
        "colab_type": "code",
        "colab": {
          "base_uri": "https://localhost:8080/",
          "height": 287
        },
        "outputId": "ffa7d1be-ae31-40f7-a540-0b3b1b8214ba"
      },
      "source": [
        "f, (ax1, ax2) = plt.subplots(1, 2, figsize=(12, 4))\n",
        "f.subplots_adjust(top=0.85, wspace=0.3)\n",
        "\n",
        "epoch_list = list(range(1,51))\n",
        "ax1.plot(epoch_list, history.history['accuracy'], label='Train Accuracy')\n",
        "ax1.plot(epoch_list, history.history['val_accuracy'], label='Validation Accuracy')\n",
        "ax1.set_xticks(np.arange(0, 21, 1))\n",
        "ax1.set_ylabel('Accuracy Value')\n",
        "ax1.set_xlabel('Epoch')\n",
        "ax1.set_title('Accuracy')\n",
        "l1 = ax1.legend(loc=\"best\")\n",
        "\n",
        "ax2.plot(epoch_list, history.history['loss'], label='Train Loss')\n",
        "ax2.plot(epoch_list, history.history['val_loss'], label='Validation Loss')\n",
        "ax2.set_xticks(np.arange(0, 21, 1))\n",
        "ax2.set_ylabel('Loss Value')\n",
        "ax2.set_xlabel('Epoch')\n",
        "ax2.set_title('Loss')\n",
        "l2 = ax2.legend(loc=\"best\")\n",
        "plt.savefig(\"plot1.png\")"
      ],
      "execution_count": null,
      "outputs": [
        {
          "output_type": "display_data",
          "data": {
            "image/png": "[encoded data removed]",
            "text/plain": [
              "<Figure size 864x288 with 2 Axes>"
            ]
          },
          "metadata": {
            "tags": [],
            "needs_background": "light"
          }
        }
      ]
    },
    {
      "cell_type": "markdown",
      "metadata": {
        "id": "W1EdsC_xECTi",
        "colab_type": "text"
      },
      "source": [
        "#Batch 2"
      ]
    },
    {
      "cell_type": "code",
      "metadata": {
        "id": "AWzscOJpJfG1",
        "colab_type": "code",
        "colab": {
          "base_uri": "https://localhost:8080/",
          "height": 1000
        },
        "outputId": "799c25c0-5bc5-434e-8a73-5a2bb5cc69f1"
      },
      "source": [
        "# Train the model\n",
        "#import tensorflow as tf\n",
        "import keras\n",
        "from keras.callbacks import ModelCheckpoint\n",
        "batch_size = BATCH_SIZE\n",
        "train_steps_per_epoch = x_train.shape[0] // batch_size\n",
        "val_steps_per_epoch = x_val.shape[0] // batch_size\n",
        "\n",
        "#Images 6000-9000\n",
        "model_2=load_model('/content/drive/My Drive/LungCancerData/Model Checkpoints/model045_0.795814_0.881224.hdf5')\n",
        "\n",
        "\n",
        "checkpoint = [keras.callbacks.ModelCheckpoint('content/drive/My Drive/LungCancerData/Model Checkpoints/model_2{epoch:03d}_{val_accuracy:05f}_{val_loss:05f}.hdf5', period=5)]\n",
        "\n",
        "history = model_2.fit(train_generator,\n",
        "                              steps_per_epoch=train_steps_per_epoch,\n",
        "                              validation_data=val_generator,\n",
        "                              validation_steps=val_steps_per_epoch,\n",
        "                              epochs=50, verbose=1, callbacks=checkpoint)"
      ],
      "execution_count": null,
      "outputs": [
        {
          "output_type": "stream",
          "text": [
            "Epoch 1/50\n",
            "93/93 [==============================] - 140s 2s/step - loss: 0.6297 - accuracy: 0.7668 - val_loss: 0.4090 - val_accuracy: 0.7757\n",
            "Epoch 2/50\n",
            "93/93 [==============================] - 109s 1s/step - loss: 0.3394 - accuracy: 0.8706 - val_loss: 0.9351 - val_accuracy: 0.7443\n",
            "Epoch 3/50\n",
            "93/93 [==============================] - 108s 1s/step - loss: 0.2380 - accuracy: 0.9107 - val_loss: 0.5945 - val_accuracy: 0.8122\n",
            "Epoch 4/50\n",
            "93/93 [==============================] - 108s 1s/step - loss: 0.1983 - accuracy: 0.9235 - val_loss: 0.5446 - val_accuracy: 0.7919\n",
            "Epoch 5/50\n",
            "93/93 [==============================] - 108s 1s/step - loss: 0.1388 - accuracy: 0.9515 - val_loss: 0.7160 - val_accuracy: 0.8331\n",
            "Epoch 6/50\n",
            "93/93 [==============================] - 108s 1s/step - loss: 0.1224 - accuracy: 0.9555 - val_loss: 0.6905 - val_accuracy: 0.8133\n",
            "Epoch 7/50\n",
            "93/93 [==============================] - 108s 1s/step - loss: 0.1056 - accuracy: 0.9592 - val_loss: 0.8156 - val_accuracy: 0.8003\n",
            "Epoch 8/50\n",
            "93/93 [==============================] - 107s 1s/step - loss: 0.1104 - accuracy: 0.9609 - val_loss: 0.6654 - val_accuracy: 0.8105\n",
            "Epoch 9/50\n",
            "93/93 [==============================] - 107s 1s/step - loss: 0.0852 - accuracy: 0.9744 - val_loss: 0.9943 - val_accuracy: 0.8269\n",
            "Epoch 10/50\n",
            "93/93 [==============================] - 107s 1s/step - loss: 0.0659 - accuracy: 0.9768 - val_loss: 0.2131 - val_accuracy: 0.8111\n",
            "Epoch 11/50\n",
            "93/93 [==============================] - 107s 1s/step - loss: 0.0916 - accuracy: 0.9677 - val_loss: 0.4680 - val_accuracy: 0.7738\n",
            "Epoch 12/50\n",
            "93/93 [==============================] - 106s 1s/step - loss: 0.0887 - accuracy: 0.9680 - val_loss: 0.5394 - val_accuracy: 0.7890\n",
            "Epoch 13/50\n",
            "93/93 [==============================] - 106s 1s/step - loss: 0.0623 - accuracy: 0.9811 - val_loss: 0.6886 - val_accuracy: 0.8467\n",
            "Epoch 14/50\n",
            "93/93 [==============================] - 106s 1s/step - loss: 0.0534 - accuracy: 0.9788 - val_loss: 0.9968 - val_accuracy: 0.7969\n",
            "Epoch 15/50\n",
            "93/93 [==============================] - 105s 1s/step - loss: 0.0644 - accuracy: 0.9784 - val_loss: 1.2965 - val_accuracy: 0.7664\n",
            "Epoch 16/50\n",
            "93/93 [==============================] - 105s 1s/step - loss: 0.0437 - accuracy: 0.9862 - val_loss: 1.5144 - val_accuracy: 0.7896\n",
            "Epoch 17/50\n",
            "93/93 [==============================] - 105s 1s/step - loss: 0.0408 - accuracy: 0.9885 - val_loss: 1.2390 - val_accuracy: 0.8337\n",
            "Epoch 18/50\n",
            "93/93 [==============================] - 105s 1s/step - loss: 0.0599 - accuracy: 0.9798 - val_loss: 0.7455 - val_accuracy: 0.8077\n",
            "Epoch 19/50\n",
            "93/93 [==============================] - 105s 1s/step - loss: 0.0504 - accuracy: 0.9824 - val_loss: 0.6813 - val_accuracy: 0.7981\n",
            "Epoch 20/50\n",
            "93/93 [==============================] - 105s 1s/step - loss: 0.0606 - accuracy: 0.9778 - val_loss: 0.9952 - val_accuracy: 0.7455\n",
            "Epoch 21/50\n",
            "93/93 [==============================] - 104s 1s/step - loss: 0.0464 - accuracy: 0.9835 - val_loss: 0.6753 - val_accuracy: 0.8207\n",
            "Epoch 22/50\n",
            "93/93 [==============================] - 104s 1s/step - loss: 0.0340 - accuracy: 0.9879 - val_loss: 0.9528 - val_accuracy: 0.8360\n",
            "Epoch 23/50\n",
            "93/93 [==============================] - 104s 1s/step - loss: 0.0553 - accuracy: 0.9808 - val_loss: 0.2540 - val_accuracy: 0.8422\n",
            "Epoch 24/50\n",
            "93/93 [==============================] - 104s 1s/step - loss: 0.0374 - accuracy: 0.9879 - val_loss: 0.9350 - val_accuracy: 0.8416\n",
            "Epoch 25/50\n",
            "93/93 [==============================] - 104s 1s/step - loss: 0.0352 - accuracy: 0.9909 - val_loss: 0.5572 - val_accuracy: 0.8269\n",
            "Epoch 26/50\n",
            "93/93 [==============================] - 105s 1s/step - loss: 0.0316 - accuracy: 0.9889 - val_loss: 1.0323 - val_accuracy: 0.8314\n",
            "Epoch 27/50\n",
            "93/93 [==============================] - 105s 1s/step - loss: 0.0388 - accuracy: 0.9899 - val_loss: 0.3635 - val_accuracy: 0.8196\n",
            "Epoch 28/50\n",
            "93/93 [==============================] - 105s 1s/step - loss: 0.0466 - accuracy: 0.9829 - val_loss: 1.0568 - val_accuracy: 0.7981\n",
            "Epoch 29/50\n",
            "93/93 [==============================] - 106s 1s/step - loss: 0.0433 - accuracy: 0.9821 - val_loss: 0.5144 - val_accuracy: 0.8054\n",
            "Epoch 30/50\n",
            "93/93 [==============================] - 106s 1s/step - loss: 0.0266 - accuracy: 0.9946 - val_loss: 0.9288 - val_accuracy: 0.8292\n",
            "Epoch 31/50\n",
            "93/93 [==============================] - 106s 1s/step - loss: 0.0415 - accuracy: 0.9889 - val_loss: 1.1935 - val_accuracy: 0.8303\n",
            "Epoch 32/50\n",
            "93/93 [==============================] - 107s 1s/step - loss: 0.0349 - accuracy: 0.9886 - val_loss: 0.7707 - val_accuracy: 0.8032\n",
            "Epoch 33/50\n",
            "93/93 [==============================] - 107s 1s/step - loss: 0.0320 - accuracy: 0.9889 - val_loss: 0.5320 - val_accuracy: 0.8303\n",
            "Epoch 34/50\n",
            "93/93 [==============================] - 106s 1s/step - loss: 0.0508 - accuracy: 0.9852 - val_loss: 0.9811 - val_accuracy: 0.8309\n",
            "Epoch 35/50\n",
            "93/93 [==============================] - 106s 1s/step - loss: 0.0385 - accuracy: 0.9872 - val_loss: 0.7228 - val_accuracy: 0.7919\n",
            "Epoch 36/50\n",
            "93/93 [==============================] - 107s 1s/step - loss: 0.0346 - accuracy: 0.9909 - val_loss: 0.4446 - val_accuracy: 0.8597\n",
            "Epoch 37/50\n",
            "93/93 [==============================] - 107s 1s/step - loss: 0.0286 - accuracy: 0.9912 - val_loss: 0.7834 - val_accuracy: 0.8365\n",
            "Epoch 38/50\n",
            "93/93 [==============================] - 108s 1s/step - loss: 0.0283 - accuracy: 0.9916 - val_loss: 1.0015 - val_accuracy: 0.8269\n",
            "Epoch 39/50\n",
            "93/93 [==============================] - 108s 1s/step - loss: 0.0301 - accuracy: 0.9909 - val_loss: 0.2677 - val_accuracy: 0.8071\n",
            "Epoch 40/50\n",
            "93/93 [==============================] - 108s 1s/step - loss: 0.0590 - accuracy: 0.9808 - val_loss: 0.2704 - val_accuracy: 0.8445\n",
            "Epoch 41/50\n",
            "93/93 [==============================] - 108s 1s/step - loss: 0.0381 - accuracy: 0.9872 - val_loss: 0.6819 - val_accuracy: 0.8360\n",
            "Epoch 42/50\n",
            "93/93 [==============================] - 109s 1s/step - loss: 0.0278 - accuracy: 0.9909 - val_loss: 1.2824 - val_accuracy: 0.8445\n",
            "Epoch 43/50\n",
            "93/93 [==============================] - 109s 1s/step - loss: 0.0324 - accuracy: 0.9892 - val_loss: 0.6725 - val_accuracy: 0.7913\n",
            "Epoch 44/50\n",
            "93/93 [==============================] - 108s 1s/step - loss: 0.0328 - accuracy: 0.9892 - val_loss: 0.6457 - val_accuracy: 0.8060\n",
            "Epoch 45/50\n",
            "93/93 [==============================] - 108s 1s/step - loss: 0.0376 - accuracy: 0.9872 - val_loss: 0.5768 - val_accuracy: 0.8507\n",
            "Epoch 46/50\n",
            "93/93 [==============================] - 108s 1s/step - loss: 0.0286 - accuracy: 0.9899 - val_loss: 1.3583 - val_accuracy: 0.7698\n",
            "Epoch 47/50\n",
            "93/93 [==============================] - 108s 1s/step - loss: 0.0244 - accuracy: 0.9916 - val_loss: 0.6672 - val_accuracy: 0.8275\n",
            "Epoch 48/50\n",
            "93/93 [==============================] - 108s 1s/step - loss: 0.0237 - accuracy: 0.9943 - val_loss: 1.2101 - val_accuracy: 0.8060\n",
            "Epoch 49/50\n",
            "93/93 [==============================] - 107s 1s/step - loss: 0.0486 - accuracy: 0.9828 - val_loss: 0.5906 - val_accuracy: 0.7641\n",
            "Epoch 50/50\n",
            "93/93 [==============================] - 108s 1s/step - loss: 0.0568 - accuracy: 0.9831 - val_loss: 0.2621 - val_accuracy: 0.8433\n"
          ],
          "name": "stdout"
        }
      ]
    },
    {
      "cell_type": "markdown",
      "metadata": {
        "id": "s9Ea9M3uD5Yf",
        "colab_type": "text"
      },
      "source": [
        "# Batch 3"
      ]
    },
    {
      "cell_type": "code",
      "metadata": {
        "id": "u6dDIDdnKVdI",
        "colab_type": "code",
        "colab": {
          "base_uri": "https://localhost:8080/",
          "height": 198
        },
        "outputId": "b3267532-8951-4851-88f3-3c86fe860779"
      },
      "source": [
        "import pandas as pd\n",
        "hist_r2_df = pd.DataFrame(history.history) \n",
        "hist_r2_df.to_csv(r'/content/drive/My Drive/LungCancerData/Model Checkpoints/History round 2.csv', index = False)"
      ],
      "execution_count": null,
      "outputs": [
        {
          "output_type": "error",
          "ename": "NameError",
          "evalue": "ignored",
          "traceback": [
            "\u001b[0;31m---------------------------------------------------------------------------\u001b[0m",
            "\u001b[0;31mNameError\u001b[0m                                 Traceback (most recent call last)",
            "\u001b[0;32m<ipython-input-2-85e420cbecdc>\u001b[0m in \u001b[0;36m<module>\u001b[0;34m()\u001b[0m\n\u001b[1;32m      1\u001b[0m \u001b[0;32mimport\u001b[0m \u001b[0mpandas\u001b[0m \u001b[0;32mas\u001b[0m \u001b[0mpd\u001b[0m\u001b[0;34m\u001b[0m\u001b[0;34m\u001b[0m\u001b[0m\n\u001b[0;32m----> 2\u001b[0;31m \u001b[0mhist_r2_df\u001b[0m \u001b[0;34m=\u001b[0m \u001b[0mpd\u001b[0m\u001b[0;34m.\u001b[0m\u001b[0mDataFrame\u001b[0m\u001b[0;34m(\u001b[0m\u001b[0mhistory\u001b[0m\u001b[0;34m.\u001b[0m\u001b[0mhistory\u001b[0m\u001b[0;34m)\u001b[0m\u001b[0;34m\u001b[0m\u001b[0;34m\u001b[0m\u001b[0m\n\u001b[0m\u001b[1;32m      3\u001b[0m \u001b[0mhist_r2_df\u001b[0m\u001b[0;34m.\u001b[0m\u001b[0mto_csv\u001b[0m\u001b[0;34m(\u001b[0m\u001b[0;34mr'/content/drive/My Drive/LungCancerData/Model Checkpoints/History round 2.csv'\u001b[0m\u001b[0;34m,\u001b[0m \u001b[0mindex\u001b[0m \u001b[0;34m=\u001b[0m \u001b[0;32mFalse\u001b[0m\u001b[0;34m)\u001b[0m\u001b[0;34m\u001b[0m\u001b[0;34m\u001b[0m\u001b[0m\n",
            "\u001b[0;31mNameError\u001b[0m: name 'history' is not defined"
          ]
        }
      ]
    },
    {
      "cell_type": "code",
      "metadata": {
        "id": "0QpKf5P6CX9q",
        "colab_type": "code",
        "colab": {
          "base_uri": "https://localhost:8080/",
          "height": 1000
        },
        "outputId": "ca704597-c1c1-4ec5-e9ad-d193f27f72b5"
      },
      "source": [
        "# Train the model\n",
        "#import tensorflow as tf\n",
        "import keras\n",
        "from keras.callbacks import ModelCheckpoint\n",
        "batch_size = BATCH_SIZE\n",
        "train_steps_per_epoch = x_train.shape[0] // batch_size\n",
        "val_steps_per_epoch = x_val.shape[0] // batch_size\n",
        "\n",
        "#Images 9000-12000\n",
        "model_3=load_model('/content/drive/My Drive/LungCancerData/Model Checkpoints/model_2045_0.850679_0.576774.hdf5')\n",
        "\n",
        "\n",
        "checkpoint = [keras.callbacks.ModelCheckpoint('content/drive/My Drive/LungCancerData/Model Checkpoints/model_3{epoch:03d}_{val_accuracy:05f}_{val_loss:05f}.hdf5', period=5)]\n",
        "\n",
        "\n",
        "history = model_3.fit(train_generator,\n",
        "                              steps_per_epoch=train_steps_per_epoch,\n",
        "                              validation_data=val_generator,\n",
        "                              validation_steps=val_steps_per_epoch,\n",
        "                              epochs=50, verbose=1, callbacks=checkpoint)"
      ],
      "execution_count": null,
      "outputs": [
        {
          "output_type": "stream",
          "text": [
            "Epoch 1/50\n",
            "93/93 [==============================] - 231s 2s/step - loss: 0.5049 - accuracy: 0.8187 - val_loss: 0.3062 - val_accuracy: 0.8220\n",
            "Epoch 2/50\n",
            "93/93 [==============================] - 185s 2s/step - loss: 0.2490 - accuracy: 0.9124 - val_loss: 0.1475 - val_accuracy: 0.8688\n",
            "Epoch 3/50\n",
            "93/93 [==============================] - 184s 2s/step - loss: 0.1521 - accuracy: 0.9434 - val_loss: 0.3332 - val_accuracy: 0.8360\n",
            "Epoch 4/50\n",
            "93/93 [==============================] - 183s 2s/step - loss: 0.1450 - accuracy: 0.9488 - val_loss: 0.1669 - val_accuracy: 0.8558\n",
            "Epoch 5/50\n",
            "93/93 [==============================] - 183s 2s/step - loss: 0.0982 - accuracy: 0.9653 - val_loss: 0.4264 - val_accuracy: 0.8535\n",
            "Epoch 6/50\n",
            "93/93 [==============================] - 183s 2s/step - loss: 0.0822 - accuracy: 0.9718 - val_loss: 0.3006 - val_accuracy: 0.8710\n",
            "Epoch 7/50\n",
            "93/93 [==============================] - 182s 2s/step - loss: 0.0759 - accuracy: 0.9750 - val_loss: 0.3652 - val_accuracy: 0.7907\n",
            "Epoch 8/50\n",
            "93/93 [==============================] - 181s 2s/step - loss: 0.0641 - accuracy: 0.9781 - val_loss: 0.4731 - val_accuracy: 0.8575\n",
            "Epoch 9/50\n",
            "93/93 [==============================] - 181s 2s/step - loss: 0.0652 - accuracy: 0.9788 - val_loss: 0.4614 - val_accuracy: 0.8512\n",
            "Epoch 10/50\n",
            "93/93 [==============================] - 181s 2s/step - loss: 0.0571 - accuracy: 0.9805 - val_loss: 0.1671 - val_accuracy: 0.8518\n",
            "Epoch 11/50\n",
            "93/93 [==============================] - 180s 2s/step - loss: 0.0483 - accuracy: 0.9815 - val_loss: 0.3282 - val_accuracy: 0.8626\n",
            "Epoch 12/50\n",
            "93/93 [==============================] - 180s 2s/step - loss: 0.0546 - accuracy: 0.9835 - val_loss: 0.6401 - val_accuracy: 0.8592\n",
            "Epoch 13/50\n",
            "93/93 [==============================] - 180s 2s/step - loss: 0.0405 - accuracy: 0.9865 - val_loss: 0.3298 - val_accuracy: 0.8722\n",
            "Epoch 14/50\n",
            "93/93 [==============================] - 179s 2s/step - loss: 0.0479 - accuracy: 0.9855 - val_loss: 0.1971 - val_accuracy: 0.8326\n",
            "Epoch 15/50\n",
            "93/93 [==============================] - 179s 2s/step - loss: 0.0612 - accuracy: 0.9781 - val_loss: 0.4311 - val_accuracy: 0.8213\n",
            "Epoch 16/50\n",
            "93/93 [==============================] - 179s 2s/step - loss: 0.0377 - accuracy: 0.9879 - val_loss: 0.6356 - val_accuracy: 0.8857\n",
            "Epoch 17/50\n",
            "93/93 [==============================] - 178s 2s/step - loss: 0.0220 - accuracy: 0.9932 - val_loss: 1.2152 - val_accuracy: 0.8773\n",
            "Epoch 18/50\n",
            "93/93 [==============================] - 179s 2s/step - loss: 0.0509 - accuracy: 0.9832 - val_loss: 0.7820 - val_accuracy: 0.8337\n",
            "Epoch 19/50\n",
            "93/93 [==============================] - 179s 2s/step - loss: 0.0428 - accuracy: 0.9865 - val_loss: 0.8151 - val_accuracy: 0.8428\n",
            "Epoch 20/50\n",
            "93/93 [==============================] - 177s 2s/step - loss: 0.0398 - accuracy: 0.9852 - val_loss: 0.6667 - val_accuracy: 0.8462\n",
            "Epoch 21/50\n",
            "93/93 [==============================] - 178s 2s/step - loss: 0.0480 - accuracy: 0.9838 - val_loss: 0.2882 - val_accuracy: 0.8733\n",
            "Epoch 22/50\n",
            "93/93 [==============================] - 178s 2s/step - loss: 0.0404 - accuracy: 0.9879 - val_loss: 0.4506 - val_accuracy: 0.8411\n",
            "Epoch 23/50\n",
            "93/93 [==============================] - 178s 2s/step - loss: 0.0518 - accuracy: 0.9828 - val_loss: 0.4789 - val_accuracy: 0.8552\n",
            "Epoch 24/50\n",
            "93/93 [==============================] - 178s 2s/step - loss: 0.0213 - accuracy: 0.9936 - val_loss: 0.1831 - val_accuracy: 0.8863\n",
            "Epoch 25/50\n",
            "93/93 [==============================] - 178s 2s/step - loss: 0.0076 - accuracy: 0.9973 - val_loss: 0.3567 - val_accuracy: 0.8931\n",
            "Epoch 26/50\n",
            "93/93 [==============================] - 177s 2s/step - loss: 0.0195 - accuracy: 0.9936 - val_loss: 0.4786 - val_accuracy: 0.9027\n",
            "Epoch 27/50\n",
            "93/93 [==============================] - 178s 2s/step - loss: 0.0274 - accuracy: 0.9899 - val_loss: 0.5703 - val_accuracy: 0.8535\n",
            "Epoch 28/50\n",
            "93/93 [==============================] - 178s 2s/step - loss: 0.0451 - accuracy: 0.9869 - val_loss: 0.8139 - val_accuracy: 0.8671\n",
            "Epoch 29/50\n",
            "93/93 [==============================] - 179s 2s/step - loss: 0.0192 - accuracy: 0.9960 - val_loss: 0.2979 - val_accuracy: 0.8857\n",
            "Epoch 30/50\n",
            "93/93 [==============================] - 179s 2s/step - loss: 0.0350 - accuracy: 0.9879 - val_loss: 0.8214 - val_accuracy: 0.8529\n",
            "Epoch 31/50\n",
            "93/93 [==============================] - 179s 2s/step - loss: 0.0385 - accuracy: 0.9855 - val_loss: 0.7121 - val_accuracy: 0.8167\n",
            "Epoch 32/50\n",
            "93/93 [==============================] - 179s 2s/step - loss: 0.0307 - accuracy: 0.9909 - val_loss: 0.6230 - val_accuracy: 0.8609\n",
            "Epoch 33/50\n",
            "93/93 [==============================] - 178s 2s/step - loss: 0.0309 - accuracy: 0.9895 - val_loss: 1.1213 - val_accuracy: 0.8286\n",
            "Epoch 34/50\n",
            "93/93 [==============================] - 178s 2s/step - loss: 0.0515 - accuracy: 0.9835 - val_loss: 0.1497 - val_accuracy: 0.8558\n",
            "Epoch 35/50\n",
            "93/93 [==============================] - 178s 2s/step - loss: 0.0265 - accuracy: 0.9889 - val_loss: 0.5380 - val_accuracy: 0.8756\n",
            "Epoch 36/50\n",
            "93/93 [==============================] - 178s 2s/step - loss: 0.0221 - accuracy: 0.9929 - val_loss: 0.5848 - val_accuracy: 0.8710\n",
            "Epoch 37/50\n",
            "93/93 [==============================] - 179s 2s/step - loss: 0.0302 - accuracy: 0.9909 - val_loss: 0.9870 - val_accuracy: 0.8281\n",
            "Epoch 38/50\n",
            "93/93 [==============================] - 178s 2s/step - loss: 0.0260 - accuracy: 0.9912 - val_loss: 0.8961 - val_accuracy: 0.8428\n",
            "Epoch 39/50\n",
            "93/93 [==============================] - 177s 2s/step - loss: 0.0273 - accuracy: 0.9899 - val_loss: 1.3342 - val_accuracy: 0.7749\n",
            "Epoch 40/50\n",
            "93/93 [==============================] - 178s 2s/step - loss: 0.0444 - accuracy: 0.9866 - val_loss: 0.4480 - val_accuracy: 0.8264\n",
            "Epoch 41/50\n",
            "93/93 [==============================] - 177s 2s/step - loss: 0.0237 - accuracy: 0.9929 - val_loss: 0.4966 - val_accuracy: 0.8744\n",
            "Epoch 42/50\n",
            "93/93 [==============================] - 176s 2s/step - loss: 0.0341 - accuracy: 0.9912 - val_loss: 0.3436 - val_accuracy: 0.8660\n",
            "Epoch 43/50\n",
            "93/93 [==============================] - 177s 2s/step - loss: 0.0122 - accuracy: 0.9956 - val_loss: 0.3221 - val_accuracy: 0.8976\n",
            "Epoch 44/50\n",
            "93/93 [==============================] - 178s 2s/step - loss: 0.0139 - accuracy: 0.9953 - val_loss: 0.7384 - val_accuracy: 0.8631\n",
            "Epoch 45/50\n",
            "93/93 [==============================] - 178s 2s/step - loss: 0.0252 - accuracy: 0.9902 - val_loss: 0.6091 - val_accuracy: 0.8230\n",
            "Epoch 46/50\n",
            "93/93 [==============================] - 178s 2s/step - loss: 0.0272 - accuracy: 0.9906 - val_loss: 0.7308 - val_accuracy: 0.8275\n",
            "Epoch 47/50\n",
            "93/93 [==============================] - 177s 2s/step - loss: 0.0300 - accuracy: 0.9895 - val_loss: 0.8419 - val_accuracy: 0.8354\n",
            "Epoch 48/50\n",
            "93/93 [==============================] - 178s 2s/step - loss: 0.0271 - accuracy: 0.9913 - val_loss: 0.8044 - val_accuracy: 0.8524\n",
            "Epoch 49/50\n",
            "93/93 [==============================] - 178s 2s/step - loss: 0.0339 - accuracy: 0.9899 - val_loss: 1.0997 - val_accuracy: 0.8365\n",
            "Epoch 50/50\n",
            "93/93 [==============================] - 177s 2s/step - loss: 0.0240 - accuracy: 0.9919 - val_loss: 0.3155 - val_accuracy: 0.8580\n"
          ],
          "name": "stdout"
        }
      ]
    },
    {
      "cell_type": "code",
      "metadata": {
        "id": "QV5mnTXQDscn",
        "colab_type": "code",
        "colab": {}
      },
      "source": [
        "hist_r3_df = pd.DataFrame(history.history) \n",
        "hist_r3_df.to_csv(r'/content/drive/My Drive/LungCancerData/Model Checkpoints/History round 3.csv', index = False)"
      ],
      "execution_count": null,
      "outputs": []
    },
    {
      "cell_type": "code",
      "metadata": {
        "id": "kAyswPQKD0F9",
        "colab_type": "code",
        "colab": {
          "base_uri": "https://localhost:8080/",
          "height": 287
        },
        "outputId": "6920bfe9-4da9-42aa-ce6a-626d0a561b93"
      },
      "source": [
        "f, (ax1, ax2) = plt.subplots(1, 2, figsize=(12, 4))\n",
        "f.subplots_adjust(top=0.85, wspace=0.3)\n",
        "\n",
        "epoch_list = list(range(1,51))\n",
        "ax1.plot(epoch_list, history.history['accuracy'], label='Train Accuracy')\n",
        "ax1.plot(epoch_list, history.history['val_accuracy'], label='Validation Accuracy')\n",
        "ax1.set_xticks(np.arange(0, 51, 5))\n",
        "ax1.set_ylabel('Accuracy Value')\n",
        "ax1.set_xlabel('Epoch')\n",
        "ax1.set_title('Accuracy')\n",
        "l1 = ax1.legend(loc=\"best\")\n",
        "\n",
        "ax2.plot(epoch_list, history.history['loss'], label='Train Loss')\n",
        "ax2.plot(epoch_list, history.history['val_loss'], label='Validation Loss')\n",
        "ax2.set_xticks(np.arange(0, 51, 5))\n",
        "ax2.set_ylabel('Loss Value')\n",
        "ax2.set_xlabel('Epoch')\n",
        "ax2.set_title('Loss')\n",
        "l2 = ax2.legend(loc=\"best\")\n",
        "plt.savefig(\"plot1.png\")"
      ],
      "execution_count": null,
      "outputs": [
        {
          "output_type": "display_data",
          "data": {
            "image/png": "[encoded data removed]",
            "text/plain": [
              "<Figure size 864x288 with 2 Axes>"
            ]
          },
          "metadata": {
            "tags": [],
            "needs_background": "light"
          }
        }
      ]
    },
    {
      "cell_type": "markdown",
      "metadata": {
        "id": "ceF6roW78T7D",
        "colab_type": "text"
      },
      "source": [
        "#Batch 4"
      ]
    },
    {
      "cell_type": "code",
      "metadata": {
        "id": "Wz3FFbWyEoct",
        "colab_type": "code",
        "colab": {
          "base_uri": "https://localhost:8080/",
          "height": 1000
        },
        "outputId": "d12892b4-f1a2-484c-e75f-f8625efabcb4"
      },
      "source": [
        "\n",
        "# Train the model\n",
        "#import tensorflow as tf\n",
        "import keras\n",
        "from keras.callbacks import ModelCheckpoint\n",
        "batch_size = BATCH_SIZE\n",
        "train_steps_per_epoch = x_train.shape[0] // batch_size\n",
        "val_steps_per_epoch = x_val.shape[0] // batch_size\n",
        "\n",
        "#Images 0-3000\n",
        "model_4=load_model('/content/drive/My Drive/LungCancerData/Model Checkpoints/model_3025_0.893100_0.356721.hdf5')\n",
        "\n",
        "\n",
        "checkpoint = [keras.callbacks.ModelCheckpoint('content/drive/My Drive/LungCancerData/Model Checkpoints/model_4{epoch:03d}_{val_accuracy:05f}_{val_loss:05f}.hdf5', period=5)]\n",
        "\n",
        "\n",
        "history = model_4.fit(train_generator,\n",
        "                              steps_per_epoch=train_steps_per_epoch,\n",
        "                              validation_data=val_generator,\n",
        "                              validation_steps=val_steps_per_epoch,\n",
        "                              epochs=50, verbose=1, callbacks=checkpoint)"
      ],
      "execution_count": null,
      "outputs": [
        {
          "output_type": "stream",
          "text": [
            "Epoch 1/50\n",
            "93/93 [==============================] - 211s 2s/step - loss: 0.3408 - accuracy: 0.8794 - val_loss: 0.2416 - val_accuracy: 0.8465\n",
            "Epoch 2/50\n",
            "93/93 [==============================] - 183s 2s/step - loss: 0.1337 - accuracy: 0.9471 - val_loss: 0.1606 - val_accuracy: 0.8840\n",
            "Epoch 3/50\n",
            "93/93 [==============================] - 183s 2s/step - loss: 0.0804 - accuracy: 0.9727 - val_loss: 1.0080 - val_accuracy: 0.7658\n",
            "Epoch 4/50\n",
            "93/93 [==============================] - 183s 2s/step - loss: 0.0634 - accuracy: 0.9768 - val_loss: 0.3755 - val_accuracy: 0.8829\n",
            "Epoch 5/50\n",
            "93/93 [==============================] - 182s 2s/step - loss: 0.0575 - accuracy: 0.9811 - val_loss: 0.4755 - val_accuracy: 0.8722\n",
            "Epoch 6/50\n",
            "93/93 [==============================] - 182s 2s/step - loss: 0.0494 - accuracy: 0.9825 - val_loss: 0.6759 - val_accuracy: 0.8790\n",
            "Epoch 7/50\n",
            "93/93 [==============================] - 182s 2s/step - loss: 0.0412 - accuracy: 0.9855 - val_loss: 0.3114 - val_accuracy: 0.8818\n",
            "Epoch 8/50\n",
            "93/93 [==============================] - 181s 2s/step - loss: 0.0682 - accuracy: 0.9811 - val_loss: 0.2658 - val_accuracy: 0.8886\n",
            "Epoch 9/50\n",
            "93/93 [==============================] - 181s 2s/step - loss: 0.0438 - accuracy: 0.9845 - val_loss: 0.6696 - val_accuracy: 0.8654\n",
            "Epoch 10/50\n",
            "93/93 [==============================] - 180s 2s/step - loss: 0.0298 - accuracy: 0.9909 - val_loss: 0.2487 - val_accuracy: 0.8699\n",
            "Epoch 11/50\n",
            "93/93 [==============================] - 181s 2s/step - loss: 0.0775 - accuracy: 0.9720 - val_loss: 0.5636 - val_accuracy: 0.8603\n",
            "Epoch 12/50\n",
            "93/93 [==============================] - 180s 2s/step - loss: 0.0382 - accuracy: 0.9872 - val_loss: 0.4266 - val_accuracy: 0.8671\n",
            "Epoch 13/50\n",
            "93/93 [==============================] - 179s 2s/step - loss: 0.0253 - accuracy: 0.9933 - val_loss: 0.5139 - val_accuracy: 0.8626\n",
            "Epoch 14/50\n",
            "93/93 [==============================] - 179s 2s/step - loss: 0.0489 - accuracy: 0.9838 - val_loss: 0.6617 - val_accuracy: 0.8648\n",
            "Epoch 15/50\n",
            "93/93 [==============================] - 179s 2s/step - loss: 0.0337 - accuracy: 0.9889 - val_loss: 0.8235 - val_accuracy: 0.8756\n",
            "Epoch 16/50\n",
            "93/93 [==============================] - 179s 2s/step - loss: 0.0304 - accuracy: 0.9896 - val_loss: 0.6368 - val_accuracy: 0.8976\n",
            "Epoch 17/50\n",
            "93/93 [==============================] - 178s 2s/step - loss: 0.0312 - accuracy: 0.9879 - val_loss: 0.4917 - val_accuracy: 0.8982\n",
            "Epoch 18/50\n",
            "93/93 [==============================] - 178s 2s/step - loss: 0.0412 - accuracy: 0.9869 - val_loss: 0.1427 - val_accuracy: 0.8524\n",
            "Epoch 19/50\n",
            "93/93 [==============================] - 178s 2s/step - loss: 0.0333 - accuracy: 0.9875 - val_loss: 0.4852 - val_accuracy: 0.8529\n",
            "Epoch 20/50\n",
            "93/93 [==============================] - 177s 2s/step - loss: 0.0376 - accuracy: 0.9892 - val_loss: 0.8091 - val_accuracy: 0.8660\n",
            "Epoch 21/50\n",
            "93/93 [==============================] - 177s 2s/step - loss: 0.0275 - accuracy: 0.9885 - val_loss: 0.4410 - val_accuracy: 0.8761\n",
            "Epoch 22/50\n",
            "93/93 [==============================] - 177s 2s/step - loss: 0.0254 - accuracy: 0.9912 - val_loss: 0.2858 - val_accuracy: 0.8931\n",
            "Epoch 23/50\n",
            "93/93 [==============================] - 177s 2s/step - loss: 0.0202 - accuracy: 0.9926 - val_loss: 0.4942 - val_accuracy: 0.8880\n",
            "Epoch 24/50\n",
            "93/93 [==============================] - 177s 2s/step - loss: 0.0380 - accuracy: 0.9875 - val_loss: 0.4528 - val_accuracy: 0.8037\n",
            "Epoch 25/50\n",
            "93/93 [==============================] - 177s 2s/step - loss: 0.0330 - accuracy: 0.9889 - val_loss: 0.2737 - val_accuracy: 0.8558\n",
            "Epoch 26/50\n",
            "93/93 [==============================] - 177s 2s/step - loss: 0.0219 - accuracy: 0.9926 - val_loss: 0.3716 - val_accuracy: 0.8840\n",
            "Epoch 27/50\n",
            "93/93 [==============================] - 177s 2s/step - loss: 0.0257 - accuracy: 0.9905 - val_loss: 0.4092 - val_accuracy: 0.8801\n",
            "Epoch 28/50\n",
            "93/93 [==============================] - 177s 2s/step - loss: 0.0151 - accuracy: 0.9946 - val_loss: 0.3603 - val_accuracy: 0.8824\n",
            "Epoch 29/50\n",
            "93/93 [==============================] - 177s 2s/step - loss: 0.0256 - accuracy: 0.9909 - val_loss: 0.3320 - val_accuracy: 0.8184\n",
            "Epoch 30/50\n",
            "93/93 [==============================] - 177s 2s/step - loss: 0.0180 - accuracy: 0.9933 - val_loss: 0.9942 - val_accuracy: 0.8750\n",
            "Epoch 31/50\n",
            "93/93 [==============================] - 178s 2s/step - loss: 0.0305 - accuracy: 0.9912 - val_loss: 0.4617 - val_accuracy: 0.8150\n",
            "Epoch 32/50\n",
            "93/93 [==============================] - 177s 2s/step - loss: 0.0248 - accuracy: 0.9905 - val_loss: 0.3200 - val_accuracy: 0.8676\n",
            "Epoch 33/50\n",
            "93/93 [==============================] - 177s 2s/step - loss: 0.0198 - accuracy: 0.9933 - val_loss: 0.4176 - val_accuracy: 0.8586\n",
            "Epoch 34/50\n",
            "93/93 [==============================] - 177s 2s/step - loss: 0.0272 - accuracy: 0.9906 - val_loss: 1.0429 - val_accuracy: 0.8733\n",
            "Epoch 35/50\n",
            "93/93 [==============================] - 177s 2s/step - loss: 0.0300 - accuracy: 0.9909 - val_loss: 1.3711 - val_accuracy: 0.7924\n",
            "Epoch 36/50\n",
            "93/93 [==============================] - 178s 2s/step - loss: 0.0386 - accuracy: 0.9889 - val_loss: 0.1151 - val_accuracy: 0.8507\n",
            "Epoch 37/50\n",
            "93/93 [==============================] - 177s 2s/step - loss: 0.0281 - accuracy: 0.9912 - val_loss: 0.4383 - val_accuracy: 0.8750\n",
            "Epoch 38/50\n",
            "93/93 [==============================] - 177s 2s/step - loss: 0.0292 - accuracy: 0.9872 - val_loss: 1.0583 - val_accuracy: 0.8597\n",
            "Epoch 39/50\n",
            "93/93 [==============================] - 177s 2s/step - loss: 0.0158 - accuracy: 0.9960 - val_loss: 0.2536 - val_accuracy: 0.8761\n",
            "Epoch 40/50\n",
            "93/93 [==============================] - 177s 2s/step - loss: 0.0183 - accuracy: 0.9966 - val_loss: 0.4866 - val_accuracy: 0.8518\n",
            "Epoch 41/50\n",
            "93/93 [==============================] - 177s 2s/step - loss: 0.0246 - accuracy: 0.9913 - val_loss: 0.5434 - val_accuracy: 0.8445\n",
            "Epoch 42/50\n",
            "93/93 [==============================] - 177s 2s/step - loss: 0.0377 - accuracy: 0.9875 - val_loss: 0.5225 - val_accuracy: 0.8512\n",
            "Epoch 43/50\n",
            "93/93 [==============================] - 177s 2s/step - loss: 0.0263 - accuracy: 0.9923 - val_loss: 0.7224 - val_accuracy: 0.8298\n",
            "Epoch 44/50\n",
            "93/93 [==============================] - 178s 2s/step - loss: 0.0234 - accuracy: 0.9919 - val_loss: 0.5912 - val_accuracy: 0.8348\n",
            "Epoch 45/50\n",
            "93/93 [==============================] - 177s 2s/step - loss: 0.0330 - accuracy: 0.9882 - val_loss: 0.4154 - val_accuracy: 0.8744\n",
            "Epoch 46/50\n",
            "93/93 [==============================] - 177s 2s/step - loss: 0.0244 - accuracy: 0.9909 - val_loss: 0.5248 - val_accuracy: 0.8654\n",
            "Epoch 47/50\n",
            "93/93 [==============================] - 177s 2s/step - loss: 0.0147 - accuracy: 0.9960 - val_loss: 0.1602 - val_accuracy: 0.8773\n",
            "Epoch 48/50\n",
            "93/93 [==============================] - 177s 2s/step - loss: 0.0225 - accuracy: 0.9932 - val_loss: 0.2218 - val_accuracy: 0.8529\n",
            "Epoch 49/50\n",
            "93/93 [==============================] - 177s 2s/step - loss: 0.0383 - accuracy: 0.9896 - val_loss: 0.4626 - val_accuracy: 0.8439\n",
            "Epoch 50/50\n",
            "93/93 [==============================] - 177s 2s/step - loss: 0.0137 - accuracy: 0.9963 - val_loss: 0.4914 - val_accuracy: 0.8790\n"
          ],
          "name": "stdout"
        }
      ]
    },
    {
      "cell_type": "code",
      "metadata": {
        "id": "6IgY5qcr8SOO",
        "colab_type": "code",
        "colab": {}
      },
      "source": [
        "hist_r4_df = pd.DataFrame(history.history) \n",
        "hist_r4_df.to_csv(r'/content/drive/My Drive/LungCancerData/Model Checkpoints/History round 4.csv', index = False)"
      ],
      "execution_count": null,
      "outputs": []
    },
    {
      "cell_type": "code",
      "metadata": {
        "id": "PFPq1W9x8VCT",
        "colab_type": "code",
        "colab": {
          "base_uri": "https://localhost:8080/",
          "height": 287
        },
        "outputId": "d7367b33-e884-4522-cbe3-83e610863d71"
      },
      "source": [
        "f, (ax1, ax2) = plt.subplots(1, 2, figsize=(12, 4))\n",
        "f.subplots_adjust(top=0.85, wspace=0.3)\n",
        "\n",
        "epoch_list = list(range(1,51))\n",
        "ax1.plot(epoch_list, history.history['accuracy'], label='Train Accuracy')\n",
        "ax1.plot(epoch_list, history.history['val_accuracy'], label='Validation Accuracy')\n",
        "ax1.set_xticks(np.arange(0, 51, 5))\n",
        "ax1.set_ylabel('Accuracy Value')\n",
        "ax1.set_xlabel('Epoch')\n",
        "ax1.set_title('Accuracy')\n",
        "l1 = ax1.legend(loc=\"best\")\n",
        "\n",
        "ax2.plot(epoch_list, history.history['loss'], label='Train Loss')\n",
        "ax2.plot(epoch_list, history.history['val_loss'], label='Validation Loss')\n",
        "ax2.set_xticks(np.arange(0, 51, 5))\n",
        "ax2.set_ylabel('Loss Value')\n",
        "ax2.set_xlabel('Epoch')\n",
        "ax2.set_title('Loss')\n",
        "l2 = ax2.legend(loc=\"best\")\n",
        "plt.savefig(\"plot1.png\")"
      ],
      "execution_count": null,
      "outputs": [
        {
          "output_type": "display_data",
          "data": {
            "image/png": "[encoded data removed]",
            "text/plain": [
              "<Figure size 864x288 with 2 Axes>"
            ]
          },
          "metadata": {
            "tags": [],
            "needs_background": "light"
          }
        }
      ]
    },
    {
      "cell_type": "markdown",
      "metadata": {
        "id": "3iUEiLWn_p1S",
        "colab_type": "text"
      },
      "source": [
        "#Evaluating the model"
      ]
    },
    {
      "cell_type": "code",
      "metadata": {
        "id": "5FDATBOK8uX3",
        "colab_type": "code",
        "colab": {
          "base_uri": "https://localhost:8080/",
          "height": 51
        },
        "outputId": "50aefaf3-e112-4081-f7ad-dfa83001a7a7"
      },
      "source": [
        "#Loading in test dataset\n",
        "from sklearn.model_selection import train_test_split\n",
        "from keras.preprocessing.image import img_to_array, load_img\n",
        "test_labels=test\n",
        "test_target_labels=test_labels[\"Subtype\"]\n",
        "\n",
        "test_data = np.array([img_to_array(load_img(img, target_size=(299, 299)))\n",
        "                           for img in test_labels['File path'].values.tolist()\n",
        "                      ]).astype('float32')\n",
        "x_test = test_data\n",
        "y_test = test_target_labels\n",
        "\n",
        "\n",
        "\n",
        "\n",
        "\n",
        "\n",
        "print('Test Datasets Size:', x_test.shape)"
      ],
      "execution_count": 6,
      "outputs": [
        {
          "output_type": "stream",
          "text": [
            "Using TensorFlow backend.\n"
          ],
          "name": "stderr"
        },
        {
          "output_type": "stream",
          "text": [
            "Test Datasets Size: (3600, 299, 299, 3)\n"
          ],
          "name": "stdout"
        }
      ]
    },
    {
      "cell_type": "code",
      "metadata": {
        "id": "VaIS58d1AE2A",
        "colab_type": "code",
        "colab": {}
      },
      "source": [
        "import numpy as np\n",
        "import pandas as pd\n",
        "\n",
        "#One hot encoding\n",
        "y_test_ohe = np.matrix(pd.get_dummies(y_test.reset_index(drop=True)))"
      ],
      "execution_count": 7,
      "outputs": []
    },
    {
      "cell_type": "code",
      "metadata": {
        "id": "KyQqHcIMATmZ",
        "colab_type": "code",
        "colab": {}
      },
      "source": [
        "#Data generation\n",
        "from keras.preprocessing.image import ImageDataGenerator\n",
        "BATCH_SIZE = 32\n",
        "\n",
        "test_datagen = ImageDataGenerator(rescale = 1./255)\n",
        "test_generator = test_datagen.flow(x_test, y_test_ohe, shuffle=False, \n",
        "                                   batch_size=BATCH_SIZE, seed=1) "
      ],
      "execution_count": 8,
      "outputs": []
    },
    {
      "cell_type": "code",
      "metadata": {
        "id": "1LIe4T2_Ycn1",
        "colab_type": "code",
        "colab": {
          "base_uri": "https://localhost:8080/",
          "height": 1000
        },
        "outputId": "b785db29-7fef-459e-fb88-a11915ae3282"
      },
      "source": [
        "from keras.models import Model\n",
        "from keras.optimizers import Adam\n",
        "from keras.layers import GlobalAveragePooling2D\n",
        "from keras.layers import Dense\n",
        "from keras.applications.inception_v3 import InceptionV3\n",
        "from keras.utils.np_utils import to_categorical\n",
        "from keras.models import load_model\n",
        "\n",
        "loaded_model=load_model('/content/drive/My Drive/LungCancerData/Model Checkpoints/model_3010_0.851810_0.167065.hdf5')\n",
        "loaded_model.layers.pop()\n",
        "#Import Inception V3\n",
        "base_inception = InceptionV3(weights='imagenet', include_top=False, \n",
        "                             input_shape=(299, 299, 3))\n",
        "                             \n",
        "# Add a global spatial average pooling layer\n",
        "out = base_inception.output\n",
        "out = GlobalAveragePooling2D()(out)\n",
        "out = Dense(512, activation='relu')(out)\n",
        "out = Dense(512, activation='relu')(out)\n",
        "total_classes = y_test_ohe.shape[1]\n",
        "predictions = Dense(total_classes, activation='softmax')(out)\n",
        "loaded_model = Model(inputs=base_inception.input, outputs=predictions)\n",
        "\n",
        "# only if we want to freeze layers\n",
        "# for layer in base_inception.layers:\n",
        "#     layer.trainable = False\n",
        "    \n",
        "# Compile \n",
        "loaded_model.compile(Adam(lr=.0001), loss='categorical_crossentropy', metrics=['accuracy']) \n",
        "loaded_model.summary()\n"
      ],
      "execution_count": 9,
      "outputs": [
        {
          "output_type": "stream",
          "text": [
            "Downloading data from https://github.com/fchollet/deep-learning-models/releases/download/v0.5/inception_v3_weights_tf_dim_ordering_tf_kernels_notop.h5\n",
            "87916544/87910968 [==============================] - 2s 0us/step\n",
            "Model: \"model_1\"\n",
            "__________________________________________________________________________________________________\n",
            "Layer (type)                    Output Shape         Param #     Connected to                     \n",
            "==================================================================================================\n",
            "input_1 (InputLayer)            (None, 299, 299, 3)  0                                            \n",
            "__________________________________________________________________________________________________\n",
            "conv2d_1 (Conv2D)               (None, 149, 149, 32) 864         input_1[0][0]                    \n",
            "__________________________________________________________________________________________________\n",
            "batch_normalization_1 (BatchNor (None, 149, 149, 32) 96          conv2d_1[0][0]                   \n",
            "__________________________________________________________________________________________________\n",
            "activation_1 (Activation)       (None, 149, 149, 32) 0           batch_normalization_1[0][0]      \n",
            "__________________________________________________________________________________________________\n",
            "conv2d_2 (Conv2D)               (None, 147, 147, 32) 9216        activation_1[0][0]               \n",
            "__________________________________________________________________________________________________\n",
            "batch_normalization_2 (BatchNor (None, 147, 147, 32) 96          conv2d_2[0][0]                   \n",
            "__________________________________________________________________________________________________\n",
            "activation_2 (Activation)       (None, 147, 147, 32) 0           batch_normalization_2[0][0]      \n",
            "__________________________________________________________________________________________________\n",
            "conv2d_3 (Conv2D)               (None, 147, 147, 64) 18432       activation_2[0][0]               \n",
            "__________________________________________________________________________________________________\n",
            "batch_normalization_3 (BatchNor (None, 147, 147, 64) 192         conv2d_3[0][0]                   \n",
            "__________________________________________________________________________________________________\n",
            "activation_3 (Activation)       (None, 147, 147, 64) 0           batch_normalization_3[0][0]      \n",
            "__________________________________________________________________________________________________\n",
            "max_pooling2d_1 (MaxPooling2D)  (None, 73, 73, 64)   0           activation_3[0][0]               \n",
            "__________________________________________________________________________________________________\n",
            "conv2d_4 (Conv2D)               (None, 73, 73, 80)   5120        max_pooling2d_1[0][0]            \n",
            "__________________________________________________________________________________________________\n",
            "batch_normalization_4 (BatchNor (None, 73, 73, 80)   240         conv2d_4[0][0]                   \n",
            "__________________________________________________________________________________________________\n",
            "activation_4 (Activation)       (None, 73, 73, 80)   0           batch_normalization_4[0][0]      \n",
            "__________________________________________________________________________________________________\n",
            "conv2d_5 (Conv2D)               (None, 71, 71, 192)  138240      activation_4[0][0]               \n",
            "__________________________________________________________________________________________________\n",
            "batch_normalization_5 (BatchNor (None, 71, 71, 192)  576         conv2d_5[0][0]                   \n",
            "__________________________________________________________________________________________________\n",
            "activation_5 (Activation)       (None, 71, 71, 192)  0           batch_normalization_5[0][0]      \n",
            "__________________________________________________________________________________________________\n",
            "max_pooling2d_2 (MaxPooling2D)  (None, 35, 35, 192)  0           activation_5[0][0]               \n",
            "__________________________________________________________________________________________________\n",
            "conv2d_9 (Conv2D)               (None, 35, 35, 64)   12288       max_pooling2d_2[0][0]            \n",
            "__________________________________________________________________________________________________\n",
            "batch_normalization_9 (BatchNor (None, 35, 35, 64)   192         conv2d_9[0][0]                   \n",
            "__________________________________________________________________________________________________\n",
            "activation_9 (Activation)       (None, 35, 35, 64)   0           batch_normalization_9[0][0]      \n",
            "__________________________________________________________________________________________________\n",
            "conv2d_7 (Conv2D)               (None, 35, 35, 48)   9216        max_pooling2d_2[0][0]            \n",
            "__________________________________________________________________________________________________\n",
            "conv2d_10 (Conv2D)              (None, 35, 35, 96)   55296       activation_9[0][0]               \n",
            "__________________________________________________________________________________________________\n",
            "batch_normalization_7 (BatchNor (None, 35, 35, 48)   144         conv2d_7[0][0]                   \n",
            "__________________________________________________________________________________________________\n",
            "batch_normalization_10 (BatchNo (None, 35, 35, 96)   288         conv2d_10[0][0]                  \n",
            "__________________________________________________________________________________________________\n",
            "activation_7 (Activation)       (None, 35, 35, 48)   0           batch_normalization_7[0][0]      \n",
            "__________________________________________________________________________________________________\n",
            "activation_10 (Activation)      (None, 35, 35, 96)   0           batch_normalization_10[0][0]     \n",
            "__________________________________________________________________________________________________\n",
            "average_pooling2d_1 (AveragePoo (None, 35, 35, 192)  0           max_pooling2d_2[0][0]            \n",
            "__________________________________________________________________________________________________\n",
            "conv2d_6 (Conv2D)               (None, 35, 35, 64)   12288       max_pooling2d_2[0][0]            \n",
            "__________________________________________________________________________________________________\n",
            "conv2d_8 (Conv2D)               (None, 35, 35, 64)   76800       activation_7[0][0]               \n",
            "__________________________________________________________________________________________________\n",
            "conv2d_11 (Conv2D)              (None, 35, 35, 96)   82944       activation_10[0][0]              \n",
            "__________________________________________________________________________________________________\n",
            "conv2d_12 (Conv2D)              (None, 35, 35, 32)   6144        average_pooling2d_1[0][0]        \n",
            "__________________________________________________________________________________________________\n",
            "batch_normalization_6 (BatchNor (None, 35, 35, 64)   192         conv2d_6[0][0]                   \n",
            "__________________________________________________________________________________________________\n",
            "batch_normalization_8 (BatchNor (None, 35, 35, 64)   192         conv2d_8[0][0]                   \n",
            "__________________________________________________________________________________________________\n",
            "batch_normalization_11 (BatchNo (None, 35, 35, 96)   288         conv2d_11[0][0]                  \n",
            "__________________________________________________________________________________________________\n",
            "batch_normalization_12 (BatchNo (None, 35, 35, 32)   96          conv2d_12[0][0]                  \n",
            "__________________________________________________________________________________________________\n",
            "activation_6 (Activation)       (None, 35, 35, 64)   0           batch_normalization_6[0][0]      \n",
            "__________________________________________________________________________________________________\n",
            "activation_8 (Activation)       (None, 35, 35, 64)   0           batch_normalization_8[0][0]      \n",
            "__________________________________________________________________________________________________\n",
            "activation_11 (Activation)      (None, 35, 35, 96)   0           batch_normalization_11[0][0]     \n",
            "__________________________________________________________________________________________________\n",
            "activation_12 (Activation)      (None, 35, 35, 32)   0           batch_normalization_12[0][0]     \n",
            "__________________________________________________________________________________________________\n",
            "mixed0 (Concatenate)            (None, 35, 35, 256)  0           activation_6[0][0]               \n",
            "                                                                 activation_8[0][0]               \n",
            "                                                                 activation_11[0][0]              \n",
            "                                                                 activation_12[0][0]              \n",
            "__________________________________________________________________________________________________\n",
            "conv2d_16 (Conv2D)              (None, 35, 35, 64)   16384       mixed0[0][0]                     \n",
            "__________________________________________________________________________________________________\n",
            "batch_normalization_16 (BatchNo (None, 35, 35, 64)   192         conv2d_16[0][0]                  \n",
            "__________________________________________________________________________________________________\n",
            "activation_16 (Activation)      (None, 35, 35, 64)   0           batch_normalization_16[0][0]     \n",
            "__________________________________________________________________________________________________\n",
            "conv2d_14 (Conv2D)              (None, 35, 35, 48)   12288       mixed0[0][0]                     \n",
            "__________________________________________________________________________________________________\n",
            "conv2d_17 (Conv2D)              (None, 35, 35, 96)   55296       activation_16[0][0]              \n",
            "__________________________________________________________________________________________________\n",
            "batch_normalization_14 (BatchNo (None, 35, 35, 48)   144         conv2d_14[0][0]                  \n",
            "__________________________________________________________________________________________________\n",
            "batch_normalization_17 (BatchNo (None, 35, 35, 96)   288         conv2d_17[0][0]                  \n",
            "__________________________________________________________________________________________________\n",
            "activation_14 (Activation)      (None, 35, 35, 48)   0           batch_normalization_14[0][0]     \n",
            "__________________________________________________________________________________________________\n",
            "activation_17 (Activation)      (None, 35, 35, 96)   0           batch_normalization_17[0][0]     \n",
            "__________________________________________________________________________________________________\n",
            "average_pooling2d_2 (AveragePoo (None, 35, 35, 256)  0           mixed0[0][0]                     \n",
            "__________________________________________________________________________________________________\n",
            "conv2d_13 (Conv2D)              (None, 35, 35, 64)   16384       mixed0[0][0]                     \n",
            "__________________________________________________________________________________________________\n",
            "conv2d_15 (Conv2D)              (None, 35, 35, 64)   76800       activation_14[0][0]              \n",
            "__________________________________________________________________________________________________\n",
            "conv2d_18 (Conv2D)              (None, 35, 35, 96)   82944       activation_17[0][0]              \n",
            "__________________________________________________________________________________________________\n",
            "conv2d_19 (Conv2D)              (None, 35, 35, 64)   16384       average_pooling2d_2[0][0]        \n",
            "__________________________________________________________________________________________________\n",
            "batch_normalization_13 (BatchNo (None, 35, 35, 64)   192         conv2d_13[0][0]                  \n",
            "__________________________________________________________________________________________________\n",
            "batch_normalization_15 (BatchNo (None, 35, 35, 64)   192         conv2d_15[0][0]                  \n",
            "__________________________________________________________________________________________________\n",
            "batch_normalization_18 (BatchNo (None, 35, 35, 96)   288         conv2d_18[0][0]                  \n",
            "__________________________________________________________________________________________________\n",
            "batch_normalization_19 (BatchNo (None, 35, 35, 64)   192         conv2d_19[0][0]                  \n",
            "__________________________________________________________________________________________________\n",
            "activation_13 (Activation)      (None, 35, 35, 64)   0           batch_normalization_13[0][0]     \n",
            "__________________________________________________________________________________________________\n",
            "activation_15 (Activation)      (None, 35, 35, 64)   0           batch_normalization_15[0][0]     \n",
            "__________________________________________________________________________________________________\n",
            "activation_18 (Activation)      (None, 35, 35, 96)   0           batch_normalization_18[0][0]     \n",
            "__________________________________________________________________________________________________\n",
            "activation_19 (Activation)      (None, 35, 35, 64)   0           batch_normalization_19[0][0]     \n",
            "__________________________________________________________________________________________________\n",
            "mixed1 (Concatenate)            (None, 35, 35, 288)  0           activation_13[0][0]              \n",
            "                                                                 activation_15[0][0]              \n",
            "                                                                 activation_18[0][0]              \n",
            "                                                                 activation_19[0][0]              \n",
            "__________________________________________________________________________________________________\n",
            "conv2d_23 (Conv2D)              (None, 35, 35, 64)   18432       mixed1[0][0]                     \n",
            "__________________________________________________________________________________________________\n",
            "batch_normalization_23 (BatchNo (None, 35, 35, 64)   192         conv2d_23[0][0]                  \n",
            "__________________________________________________________________________________________________\n",
            "activation_23 (Activation)      (None, 35, 35, 64)   0           batch_normalization_23[0][0]     \n",
            "__________________________________________________________________________________________________\n",
            "conv2d_21 (Conv2D)              (None, 35, 35, 48)   13824       mixed1[0][0]                     \n",
            "__________________________________________________________________________________________________\n",
            "conv2d_24 (Conv2D)              (None, 35, 35, 96)   55296       activation_23[0][0]              \n",
            "__________________________________________________________________________________________________\n",
            "batch_normalization_21 (BatchNo (None, 35, 35, 48)   144         conv2d_21[0][0]                  \n",
            "__________________________________________________________________________________________________\n",
            "batch_normalization_24 (BatchNo (None, 35, 35, 96)   288         conv2d_24[0][0]                  \n",
            "__________________________________________________________________________________________________\n",
            "activation_21 (Activation)      (None, 35, 35, 48)   0           batch_normalization_21[0][0]     \n",
            "__________________________________________________________________________________________________\n",
            "activation_24 (Activation)      (None, 35, 35, 96)   0           batch_normalization_24[0][0]     \n",
            "__________________________________________________________________________________________________\n",
            "average_pooling2d_3 (AveragePoo (None, 35, 35, 288)  0           mixed1[0][0]                     \n",
            "__________________________________________________________________________________________________\n",
            "conv2d_20 (Conv2D)              (None, 35, 35, 64)   18432       mixed1[0][0]                     \n",
            "__________________________________________________________________________________________________\n",
            "conv2d_22 (Conv2D)              (None, 35, 35, 64)   76800       activation_21[0][0]              \n",
            "__________________________________________________________________________________________________\n",
            "conv2d_25 (Conv2D)              (None, 35, 35, 96)   82944       activation_24[0][0]              \n",
            "__________________________________________________________________________________________________\n",
            "conv2d_26 (Conv2D)              (None, 35, 35, 64)   18432       average_pooling2d_3[0][0]        \n",
            "__________________________________________________________________________________________________\n",
            "batch_normalization_20 (BatchNo (None, 35, 35, 64)   192         conv2d_20[0][0]                  \n",
            "__________________________________________________________________________________________________\n",
            "batch_normalization_22 (BatchNo (None, 35, 35, 64)   192         conv2d_22[0][0]                  \n",
            "__________________________________________________________________________________________________\n",
            "batch_normalization_25 (BatchNo (None, 35, 35, 96)   288         conv2d_25[0][0]                  \n",
            "__________________________________________________________________________________________________\n",
            "batch_normalization_26 (BatchNo (None, 35, 35, 64)   192         conv2d_26[0][0]                  \n",
            "__________________________________________________________________________________________________\n",
            "activation_20 (Activation)      (None, 35, 35, 64)   0           batch_normalization_20[0][0]     \n",
            "__________________________________________________________________________________________________\n",
            "activation_22 (Activation)      (None, 35, 35, 64)   0           batch_normalization_22[0][0]     \n",
            "__________________________________________________________________________________________________\n",
            "activation_25 (Activation)      (None, 35, 35, 96)   0           batch_normalization_25[0][0]     \n",
            "__________________________________________________________________________________________________\n",
            "activation_26 (Activation)      (None, 35, 35, 64)   0           batch_normalization_26[0][0]     \n",
            "__________________________________________________________________________________________________\n",
            "mixed2 (Concatenate)            (None, 35, 35, 288)  0           activation_20[0][0]              \n",
            "                                                                 activation_22[0][0]              \n",
            "                                                                 activation_25[0][0]              \n",
            "                                                                 activation_26[0][0]              \n",
            "__________________________________________________________________________________________________\n",
            "conv2d_28 (Conv2D)              (None, 35, 35, 64)   18432       mixed2[0][0]                     \n",
            "__________________________________________________________________________________________________\n",
            "batch_normalization_28 (BatchNo (None, 35, 35, 64)   192         conv2d_28[0][0]                  \n",
            "__________________________________________________________________________________________________\n",
            "activation_28 (Activation)      (None, 35, 35, 64)   0           batch_normalization_28[0][0]     \n",
            "__________________________________________________________________________________________________\n",
            "conv2d_29 (Conv2D)              (None, 35, 35, 96)   55296       activation_28[0][0]              \n",
            "__________________________________________________________________________________________________\n",
            "batch_normalization_29 (BatchNo (None, 35, 35, 96)   288         conv2d_29[0][0]                  \n",
            "__________________________________________________________________________________________________\n",
            "activation_29 (Activation)      (None, 35, 35, 96)   0           batch_normalization_29[0][0]     \n",
            "__________________________________________________________________________________________________\n",
            "conv2d_27 (Conv2D)              (None, 17, 17, 384)  995328      mixed2[0][0]                     \n",
            "__________________________________________________________________________________________________\n",
            "conv2d_30 (Conv2D)              (None, 17, 17, 96)   82944       activation_29[0][0]              \n",
            "__________________________________________________________________________________________________\n",
            "batch_normalization_27 (BatchNo (None, 17, 17, 384)  1152        conv2d_27[0][0]                  \n",
            "__________________________________________________________________________________________________\n",
            "batch_normalization_30 (BatchNo (None, 17, 17, 96)   288         conv2d_30[0][0]                  \n",
            "__________________________________________________________________________________________________\n",
            "activation_27 (Activation)      (None, 17, 17, 384)  0           batch_normalization_27[0][0]     \n",
            "__________________________________________________________________________________________________\n",
            "activation_30 (Activation)      (None, 17, 17, 96)   0           batch_normalization_30[0][0]     \n",
            "__________________________________________________________________________________________________\n",
            "max_pooling2d_3 (MaxPooling2D)  (None, 17, 17, 288)  0           mixed2[0][0]                     \n",
            "__________________________________________________________________________________________________\n",
            "mixed3 (Concatenate)            (None, 17, 17, 768)  0           activation_27[0][0]              \n",
            "                                                                 activation_30[0][0]              \n",
            "                                                                 max_pooling2d_3[0][0]            \n",
            "__________________________________________________________________________________________________\n",
            "conv2d_35 (Conv2D)              (None, 17, 17, 128)  98304       mixed3[0][0]                     \n",
            "__________________________________________________________________________________________________\n",
            "batch_normalization_35 (BatchNo (None, 17, 17, 128)  384         conv2d_35[0][0]                  \n",
            "__________________________________________________________________________________________________\n",
            "activation_35 (Activation)      (None, 17, 17, 128)  0           batch_normalization_35[0][0]     \n",
            "__________________________________________________________________________________________________\n",
            "conv2d_36 (Conv2D)              (None, 17, 17, 128)  114688      activation_35[0][0]              \n",
            "__________________________________________________________________________________________________\n",
            "batch_normalization_36 (BatchNo (None, 17, 17, 128)  384         conv2d_36[0][0]                  \n",
            "__________________________________________________________________________________________________\n",
            "activation_36 (Activation)      (None, 17, 17, 128)  0           batch_normalization_36[0][0]     \n",
            "__________________________________________________________________________________________________\n",
            "conv2d_32 (Conv2D)              (None, 17, 17, 128)  98304       mixed3[0][0]                     \n",
            "__________________________________________________________________________________________________\n",
            "conv2d_37 (Conv2D)              (None, 17, 17, 128)  114688      activation_36[0][0]              \n",
            "__________________________________________________________________________________________________\n",
            "batch_normalization_32 (BatchNo (None, 17, 17, 128)  384         conv2d_32[0][0]                  \n",
            "__________________________________________________________________________________________________\n",
            "batch_normalization_37 (BatchNo (None, 17, 17, 128)  384         conv2d_37[0][0]                  \n",
            "__________________________________________________________________________________________________\n",
            "activation_32 (Activation)      (None, 17, 17, 128)  0           batch_normalization_32[0][0]     \n",
            "__________________________________________________________________________________________________\n",
            "activation_37 (Activation)      (None, 17, 17, 128)  0           batch_normalization_37[0][0]     \n",
            "__________________________________________________________________________________________________\n",
            "conv2d_33 (Conv2D)              (None, 17, 17, 128)  114688      activation_32[0][0]              \n",
            "__________________________________________________________________________________________________\n",
            "conv2d_38 (Conv2D)              (None, 17, 17, 128)  114688      activation_37[0][0]              \n",
            "__________________________________________________________________________________________________\n",
            "batch_normalization_33 (BatchNo (None, 17, 17, 128)  384         conv2d_33[0][0]                  \n",
            "__________________________________________________________________________________________________\n",
            "batch_normalization_38 (BatchNo (None, 17, 17, 128)  384         conv2d_38[0][0]                  \n",
            "__________________________________________________________________________________________________\n",
            "activation_33 (Activation)      (None, 17, 17, 128)  0           batch_normalization_33[0][0]     \n",
            "__________________________________________________________________________________________________\n",
            "activation_38 (Activation)      (None, 17, 17, 128)  0           batch_normalization_38[0][0]     \n",
            "__________________________________________________________________________________________________\n",
            "average_pooling2d_4 (AveragePoo (None, 17, 17, 768)  0           mixed3[0][0]                     \n",
            "__________________________________________________________________________________________________\n",
            "conv2d_31 (Conv2D)              (None, 17, 17, 192)  147456      mixed3[0][0]                     \n",
            "__________________________________________________________________________________________________\n",
            "conv2d_34 (Conv2D)              (None, 17, 17, 192)  172032      activation_33[0][0]              \n",
            "__________________________________________________________________________________________________\n",
            "conv2d_39 (Conv2D)              (None, 17, 17, 192)  172032      activation_38[0][0]              \n",
            "__________________________________________________________________________________________________\n",
            "conv2d_40 (Conv2D)              (None, 17, 17, 192)  147456      average_pooling2d_4[0][0]        \n",
            "__________________________________________________________________________________________________\n",
            "batch_normalization_31 (BatchNo (None, 17, 17, 192)  576         conv2d_31[0][0]                  \n",
            "__________________________________________________________________________________________________\n",
            "batch_normalization_34 (BatchNo (None, 17, 17, 192)  576         conv2d_34[0][0]                  \n",
            "__________________________________________________________________________________________________\n",
            "batch_normalization_39 (BatchNo (None, 17, 17, 192)  576         conv2d_39[0][0]                  \n",
            "__________________________________________________________________________________________________\n",
            "batch_normalization_40 (BatchNo (None, 17, 17, 192)  576         conv2d_40[0][0]                  \n",
            "__________________________________________________________________________________________________\n",
            "activation_31 (Activation)      (None, 17, 17, 192)  0           batch_normalization_31[0][0]     \n",
            "__________________________________________________________________________________________________\n",
            "activation_34 (Activation)      (None, 17, 17, 192)  0           batch_normalization_34[0][0]     \n",
            "__________________________________________________________________________________________________\n",
            "activation_39 (Activation)      (None, 17, 17, 192)  0           batch_normalization_39[0][0]     \n",
            "__________________________________________________________________________________________________\n",
            "activation_40 (Activation)      (None, 17, 17, 192)  0           batch_normalization_40[0][0]     \n",
            "__________________________________________________________________________________________________\n",
            "mixed4 (Concatenate)            (None, 17, 17, 768)  0           activation_31[0][0]              \n",
            "                                                                 activation_34[0][0]              \n",
            "                                                                 activation_39[0][0]              \n",
            "                                                                 activation_40[0][0]              \n",
            "__________________________________________________________________________________________________\n",
            "conv2d_45 (Conv2D)              (None, 17, 17, 160)  122880      mixed4[0][0]                     \n",
            "__________________________________________________________________________________________________\n",
            "batch_normalization_45 (BatchNo (None, 17, 17, 160)  480         conv2d_45[0][0]                  \n",
            "__________________________________________________________________________________________________\n",
            "activation_45 (Activation)      (None, 17, 17, 160)  0           batch_normalization_45[0][0]     \n",
            "__________________________________________________________________________________________________\n",
            "conv2d_46 (Conv2D)              (None, 17, 17, 160)  179200      activation_45[0][0]              \n",
            "__________________________________________________________________________________________________\n",
            "batch_normalization_46 (BatchNo (None, 17, 17, 160)  480         conv2d_46[0][0]                  \n",
            "__________________________________________________________________________________________________\n",
            "activation_46 (Activation)      (None, 17, 17, 160)  0           batch_normalization_46[0][0]     \n",
            "__________________________________________________________________________________________________\n",
            "conv2d_42 (Conv2D)              (None, 17, 17, 160)  122880      mixed4[0][0]                     \n",
            "__________________________________________________________________________________________________\n",
            "conv2d_47 (Conv2D)              (None, 17, 17, 160)  179200      activation_46[0][0]              \n",
            "__________________________________________________________________________________________________\n",
            "batch_normalization_42 (BatchNo (None, 17, 17, 160)  480         conv2d_42[0][0]                  \n",
            "__________________________________________________________________________________________________\n",
            "batch_normalization_47 (BatchNo (None, 17, 17, 160)  480         conv2d_47[0][0]                  \n",
            "__________________________________________________________________________________________________\n",
            "activation_42 (Activation)      (None, 17, 17, 160)  0           batch_normalization_42[0][0]     \n",
            "__________________________________________________________________________________________________\n",
            "activation_47 (Activation)      (None, 17, 17, 160)  0           batch_normalization_47[0][0]     \n",
            "__________________________________________________________________________________________________\n",
            "conv2d_43 (Conv2D)              (None, 17, 17, 160)  179200      activation_42[0][0]              \n",
            "__________________________________________________________________________________________________\n",
            "conv2d_48 (Conv2D)              (None, 17, 17, 160)  179200      activation_47[0][0]              \n",
            "__________________________________________________________________________________________________\n",
            "batch_normalization_43 (BatchNo (None, 17, 17, 160)  480         conv2d_43[0][0]                  \n",
            "__________________________________________________________________________________________________\n",
            "batch_normalization_48 (BatchNo (None, 17, 17, 160)  480         conv2d_48[0][0]                  \n",
            "__________________________________________________________________________________________________\n",
            "activation_43 (Activation)      (None, 17, 17, 160)  0           batch_normalization_43[0][0]     \n",
            "__________________________________________________________________________________________________\n",
            "activation_48 (Activation)      (None, 17, 17, 160)  0           batch_normalization_48[0][0]     \n",
            "__________________________________________________________________________________________________\n",
            "average_pooling2d_5 (AveragePoo (None, 17, 17, 768)  0           mixed4[0][0]                     \n",
            "__________________________________________________________________________________________________\n",
            "conv2d_41 (Conv2D)              (None, 17, 17, 192)  147456      mixed4[0][0]                     \n",
            "__________________________________________________________________________________________________\n",
            "conv2d_44 (Conv2D)              (None, 17, 17, 192)  215040      activation_43[0][0]              \n",
            "__________________________________________________________________________________________________\n",
            "conv2d_49 (Conv2D)              (None, 17, 17, 192)  215040      activation_48[0][0]              \n",
            "__________________________________________________________________________________________________\n",
            "conv2d_50 (Conv2D)              (None, 17, 17, 192)  147456      average_pooling2d_5[0][0]        \n",
            "__________________________________________________________________________________________________\n",
            "batch_normalization_41 (BatchNo (None, 17, 17, 192)  576         conv2d_41[0][0]                  \n",
            "__________________________________________________________________________________________________\n",
            "batch_normalization_44 (BatchNo (None, 17, 17, 192)  576         conv2d_44[0][0]                  \n",
            "__________________________________________________________________________________________________\n",
            "batch_normalization_49 (BatchNo (None, 17, 17, 192)  576         conv2d_49[0][0]                  \n",
            "__________________________________________________________________________________________________\n",
            "batch_normalization_50 (BatchNo (None, 17, 17, 192)  576         conv2d_50[0][0]                  \n",
            "__________________________________________________________________________________________________\n",
            "activation_41 (Activation)      (None, 17, 17, 192)  0           batch_normalization_41[0][0]     \n",
            "__________________________________________________________________________________________________\n",
            "activation_44 (Activation)      (None, 17, 17, 192)  0           batch_normalization_44[0][0]     \n",
            "__________________________________________________________________________________________________\n",
            "activation_49 (Activation)      (None, 17, 17, 192)  0           batch_normalization_49[0][0]     \n",
            "__________________________________________________________________________________________________\n",
            "activation_50 (Activation)      (None, 17, 17, 192)  0           batch_normalization_50[0][0]     \n",
            "__________________________________________________________________________________________________\n",
            "mixed5 (Concatenate)            (None, 17, 17, 768)  0           activation_41[0][0]              \n",
            "                                                                 activation_44[0][0]              \n",
            "                                                                 activation_49[0][0]              \n",
            "                                                                 activation_50[0][0]              \n",
            "__________________________________________________________________________________________________\n",
            "conv2d_55 (Conv2D)              (None, 17, 17, 160)  122880      mixed5[0][0]                     \n",
            "__________________________________________________________________________________________________\n",
            "batch_normalization_55 (BatchNo (None, 17, 17, 160)  480         conv2d_55[0][0]                  \n",
            "__________________________________________________________________________________________________\n",
            "activation_55 (Activation)      (None, 17, 17, 160)  0           batch_normalization_55[0][0]     \n",
            "__________________________________________________________________________________________________\n",
            "conv2d_56 (Conv2D)              (None, 17, 17, 160)  179200      activation_55[0][0]              \n",
            "__________________________________________________________________________________________________\n",
            "batch_normalization_56 (BatchNo (None, 17, 17, 160)  480         conv2d_56[0][0]                  \n",
            "__________________________________________________________________________________________________\n",
            "activation_56 (Activation)      (None, 17, 17, 160)  0           batch_normalization_56[0][0]     \n",
            "__________________________________________________________________________________________________\n",
            "conv2d_52 (Conv2D)              (None, 17, 17, 160)  122880      mixed5[0][0]                     \n",
            "__________________________________________________________________________________________________\n",
            "conv2d_57 (Conv2D)              (None, 17, 17, 160)  179200      activation_56[0][0]              \n",
            "__________________________________________________________________________________________________\n",
            "batch_normalization_52 (BatchNo (None, 17, 17, 160)  480         conv2d_52[0][0]                  \n",
            "__________________________________________________________________________________________________\n",
            "batch_normalization_57 (BatchNo (None, 17, 17, 160)  480         conv2d_57[0][0]                  \n",
            "__________________________________________________________________________________________________\n",
            "activation_52 (Activation)      (None, 17, 17, 160)  0           batch_normalization_52[0][0]     \n",
            "__________________________________________________________________________________________________\n",
            "activation_57 (Activation)      (None, 17, 17, 160)  0           batch_normalization_57[0][0]     \n",
            "__________________________________________________________________________________________________\n",
            "conv2d_53 (Conv2D)              (None, 17, 17, 160)  179200      activation_52[0][0]              \n",
            "__________________________________________________________________________________________________\n",
            "conv2d_58 (Conv2D)              (None, 17, 17, 160)  179200      activation_57[0][0]              \n",
            "__________________________________________________________________________________________________\n",
            "batch_normalization_53 (BatchNo (None, 17, 17, 160)  480         conv2d_53[0][0]                  \n",
            "__________________________________________________________________________________________________\n",
            "batch_normalization_58 (BatchNo (None, 17, 17, 160)  480         conv2d_58[0][0]                  \n",
            "__________________________________________________________________________________________________\n",
            "activation_53 (Activation)      (None, 17, 17, 160)  0           batch_normalization_53[0][0]     \n",
            "__________________________________________________________________________________________________\n",
            "activation_58 (Activation)      (None, 17, 17, 160)  0           batch_normalization_58[0][0]     \n",
            "__________________________________________________________________________________________________\n",
            "average_pooling2d_6 (AveragePoo (None, 17, 17, 768)  0           mixed5[0][0]                     \n",
            "__________________________________________________________________________________________________\n",
            "conv2d_51 (Conv2D)              (None, 17, 17, 192)  147456      mixed5[0][0]                     \n",
            "__________________________________________________________________________________________________\n",
            "conv2d_54 (Conv2D)              (None, 17, 17, 192)  215040      activation_53[0][0]              \n",
            "__________________________________________________________________________________________________\n",
            "conv2d_59 (Conv2D)              (None, 17, 17, 192)  215040      activation_58[0][0]              \n",
            "__________________________________________________________________________________________________\n",
            "conv2d_60 (Conv2D)              (None, 17, 17, 192)  147456      average_pooling2d_6[0][0]        \n",
            "__________________________________________________________________________________________________\n",
            "batch_normalization_51 (BatchNo (None, 17, 17, 192)  576         conv2d_51[0][0]                  \n",
            "__________________________________________________________________________________________________\n",
            "batch_normalization_54 (BatchNo (None, 17, 17, 192)  576         conv2d_54[0][0]                  \n",
            "__________________________________________________________________________________________________\n",
            "batch_normalization_59 (BatchNo (None, 17, 17, 192)  576         conv2d_59[0][0]                  \n",
            "__________________________________________________________________________________________________\n",
            "batch_normalization_60 (BatchNo (None, 17, 17, 192)  576         conv2d_60[0][0]                  \n",
            "__________________________________________________________________________________________________\n",
            "activation_51 (Activation)      (None, 17, 17, 192)  0           batch_normalization_51[0][0]     \n",
            "__________________________________________________________________________________________________\n",
            "activation_54 (Activation)      (None, 17, 17, 192)  0           batch_normalization_54[0][0]     \n",
            "__________________________________________________________________________________________________\n",
            "activation_59 (Activation)      (None, 17, 17, 192)  0           batch_normalization_59[0][0]     \n",
            "__________________________________________________________________________________________________\n",
            "activation_60 (Activation)      (None, 17, 17, 192)  0           batch_normalization_60[0][0]     \n",
            "__________________________________________________________________________________________________\n",
            "mixed6 (Concatenate)            (None, 17, 17, 768)  0           activation_51[0][0]              \n",
            "                                                                 activation_54[0][0]              \n",
            "                                                                 activation_59[0][0]              \n",
            "                                                                 activation_60[0][0]              \n",
            "__________________________________________________________________________________________________\n",
            "conv2d_65 (Conv2D)              (None, 17, 17, 192)  147456      mixed6[0][0]                     \n",
            "__________________________________________________________________________________________________\n",
            "batch_normalization_65 (BatchNo (None, 17, 17, 192)  576         conv2d_65[0][0]                  \n",
            "__________________________________________________________________________________________________\n",
            "activation_65 (Activation)      (None, 17, 17, 192)  0           batch_normalization_65[0][0]     \n",
            "__________________________________________________________________________________________________\n",
            "conv2d_66 (Conv2D)              (None, 17, 17, 192)  258048      activation_65[0][0]              \n",
            "__________________________________________________________________________________________________\n",
            "batch_normalization_66 (BatchNo (None, 17, 17, 192)  576         conv2d_66[0][0]                  \n",
            "__________________________________________________________________________________________________\n",
            "activation_66 (Activation)      (None, 17, 17, 192)  0           batch_normalization_66[0][0]     \n",
            "__________________________________________________________________________________________________\n",
            "conv2d_62 (Conv2D)              (None, 17, 17, 192)  147456      mixed6[0][0]                     \n",
            "__________________________________________________________________________________________________\n",
            "conv2d_67 (Conv2D)              (None, 17, 17, 192)  258048      activation_66[0][0]              \n",
            "__________________________________________________________________________________________________\n",
            "batch_normalization_62 (BatchNo (None, 17, 17, 192)  576         conv2d_62[0][0]                  \n",
            "__________________________________________________________________________________________________\n",
            "batch_normalization_67 (BatchNo (None, 17, 17, 192)  576         conv2d_67[0][0]                  \n",
            "__________________________________________________________________________________________________\n",
            "activation_62 (Activation)      (None, 17, 17, 192)  0           batch_normalization_62[0][0]     \n",
            "__________________________________________________________________________________________________\n",
            "activation_67 (Activation)      (None, 17, 17, 192)  0           batch_normalization_67[0][0]     \n",
            "__________________________________________________________________________________________________\n",
            "conv2d_63 (Conv2D)              (None, 17, 17, 192)  258048      activation_62[0][0]              \n",
            "__________________________________________________________________________________________________\n",
            "conv2d_68 (Conv2D)              (None, 17, 17, 192)  258048      activation_67[0][0]              \n",
            "__________________________________________________________________________________________________\n",
            "batch_normalization_63 (BatchNo (None, 17, 17, 192)  576         conv2d_63[0][0]                  \n",
            "__________________________________________________________________________________________________\n",
            "batch_normalization_68 (BatchNo (None, 17, 17, 192)  576         conv2d_68[0][0]                  \n",
            "__________________________________________________________________________________________________\n",
            "activation_63 (Activation)      (None, 17, 17, 192)  0           batch_normalization_63[0][0]     \n",
            "__________________________________________________________________________________________________\n",
            "activation_68 (Activation)      (None, 17, 17, 192)  0           batch_normalization_68[0][0]     \n",
            "__________________________________________________________________________________________________\n",
            "average_pooling2d_7 (AveragePoo (None, 17, 17, 768)  0           mixed6[0][0]                     \n",
            "__________________________________________________________________________________________________\n",
            "conv2d_61 (Conv2D)              (None, 17, 17, 192)  147456      mixed6[0][0]                     \n",
            "__________________________________________________________________________________________________\n",
            "conv2d_64 (Conv2D)              (None, 17, 17, 192)  258048      activation_63[0][0]              \n",
            "__________________________________________________________________________________________________\n",
            "conv2d_69 (Conv2D)              (None, 17, 17, 192)  258048      activation_68[0][0]              \n",
            "__________________________________________________________________________________________________\n",
            "conv2d_70 (Conv2D)              (None, 17, 17, 192)  147456      average_pooling2d_7[0][0]        \n",
            "__________________________________________________________________________________________________\n",
            "batch_normalization_61 (BatchNo (None, 17, 17, 192)  576         conv2d_61[0][0]                  \n",
            "__________________________________________________________________________________________________\n",
            "batch_normalization_64 (BatchNo (None, 17, 17, 192)  576         conv2d_64[0][0]                  \n",
            "__________________________________________________________________________________________________\n",
            "batch_normalization_69 (BatchNo (None, 17, 17, 192)  576         conv2d_69[0][0]                  \n",
            "__________________________________________________________________________________________________\n",
            "batch_normalization_70 (BatchNo (None, 17, 17, 192)  576         conv2d_70[0][0]                  \n",
            "__________________________________________________________________________________________________\n",
            "activation_61 (Activation)      (None, 17, 17, 192)  0           batch_normalization_61[0][0]     \n",
            "__________________________________________________________________________________________________\n",
            "activation_64 (Activation)      (None, 17, 17, 192)  0           batch_normalization_64[0][0]     \n",
            "__________________________________________________________________________________________________\n",
            "activation_69 (Activation)      (None, 17, 17, 192)  0           batch_normalization_69[0][0]     \n",
            "__________________________________________________________________________________________________\n",
            "activation_70 (Activation)      (None, 17, 17, 192)  0           batch_normalization_70[0][0]     \n",
            "__________________________________________________________________________________________________\n",
            "mixed7 (Concatenate)            (None, 17, 17, 768)  0           activation_61[0][0]              \n",
            "                                                                 activation_64[0][0]              \n",
            "                                                                 activation_69[0][0]              \n",
            "                                                                 activation_70[0][0]              \n",
            "__________________________________________________________________________________________________\n",
            "conv2d_73 (Conv2D)              (None, 17, 17, 192)  147456      mixed7[0][0]                     \n",
            "__________________________________________________________________________________________________\n",
            "batch_normalization_73 (BatchNo (None, 17, 17, 192)  576         conv2d_73[0][0]                  \n",
            "__________________________________________________________________________________________________\n",
            "activation_73 (Activation)      (None, 17, 17, 192)  0           batch_normalization_73[0][0]     \n",
            "__________________________________________________________________________________________________\n",
            "conv2d_74 (Conv2D)              (None, 17, 17, 192)  258048      activation_73[0][0]              \n",
            "__________________________________________________________________________________________________\n",
            "batch_normalization_74 (BatchNo (None, 17, 17, 192)  576         conv2d_74[0][0]                  \n",
            "__________________________________________________________________________________________________\n",
            "activation_74 (Activation)      (None, 17, 17, 192)  0           batch_normalization_74[0][0]     \n",
            "__________________________________________________________________________________________________\n",
            "conv2d_71 (Conv2D)              (None, 17, 17, 192)  147456      mixed7[0][0]                     \n",
            "__________________________________________________________________________________________________\n",
            "conv2d_75 (Conv2D)              (None, 17, 17, 192)  258048      activation_74[0][0]              \n",
            "__________________________________________________________________________________________________\n",
            "batch_normalization_71 (BatchNo (None, 17, 17, 192)  576         conv2d_71[0][0]                  \n",
            "__________________________________________________________________________________________________\n",
            "batch_normalization_75 (BatchNo (None, 17, 17, 192)  576         conv2d_75[0][0]                  \n",
            "__________________________________________________________________________________________________\n",
            "activation_71 (Activation)      (None, 17, 17, 192)  0           batch_normalization_71[0][0]     \n",
            "__________________________________________________________________________________________________\n",
            "activation_75 (Activation)      (None, 17, 17, 192)  0           batch_normalization_75[0][0]     \n",
            "__________________________________________________________________________________________________\n",
            "conv2d_72 (Conv2D)              (None, 8, 8, 320)    552960      activation_71[0][0]              \n",
            "__________________________________________________________________________________________________\n",
            "conv2d_76 (Conv2D)              (None, 8, 8, 192)    331776      activation_75[0][0]              \n",
            "__________________________________________________________________________________________________\n",
            "batch_normalization_72 (BatchNo (None, 8, 8, 320)    960         conv2d_72[0][0]                  \n",
            "__________________________________________________________________________________________________\n",
            "batch_normalization_76 (BatchNo (None, 8, 8, 192)    576         conv2d_76[0][0]                  \n",
            "__________________________________________________________________________________________________\n",
            "activation_72 (Activation)      (None, 8, 8, 320)    0           batch_normalization_72[0][0]     \n",
            "__________________________________________________________________________________________________\n",
            "activation_76 (Activation)      (None, 8, 8, 192)    0           batch_normalization_76[0][0]     \n",
            "__________________________________________________________________________________________________\n",
            "max_pooling2d_4 (MaxPooling2D)  (None, 8, 8, 768)    0           mixed7[0][0]                     \n",
            "__________________________________________________________________________________________________\n",
            "mixed8 (Concatenate)            (None, 8, 8, 1280)   0           activation_72[0][0]              \n",
            "                                                                 activation_76[0][0]              \n",
            "                                                                 max_pooling2d_4[0][0]            \n",
            "__________________________________________________________________________________________________\n",
            "conv2d_81 (Conv2D)              (None, 8, 8, 448)    573440      mixed8[0][0]                     \n",
            "__________________________________________________________________________________________________\n",
            "batch_normalization_81 (BatchNo (None, 8, 8, 448)    1344        conv2d_81[0][0]                  \n",
            "__________________________________________________________________________________________________\n",
            "activation_81 (Activation)      (None, 8, 8, 448)    0           batch_normalization_81[0][0]     \n",
            "__________________________________________________________________________________________________\n",
            "conv2d_78 (Conv2D)              (None, 8, 8, 384)    491520      mixed8[0][0]                     \n",
            "__________________________________________________________________________________________________\n",
            "conv2d_82 (Conv2D)              (None, 8, 8, 384)    1548288     activation_81[0][0]              \n",
            "__________________________________________________________________________________________________\n",
            "batch_normalization_78 (BatchNo (None, 8, 8, 384)    1152        conv2d_78[0][0]                  \n",
            "__________________________________________________________________________________________________\n",
            "batch_normalization_82 (BatchNo (None, 8, 8, 384)    1152        conv2d_82[0][0]                  \n",
            "__________________________________________________________________________________________________\n",
            "activation_78 (Activation)      (None, 8, 8, 384)    0           batch_normalization_78[0][0]     \n",
            "__________________________________________________________________________________________________\n",
            "activation_82 (Activation)      (None, 8, 8, 384)    0           batch_normalization_82[0][0]     \n",
            "__________________________________________________________________________________________________\n",
            "conv2d_79 (Conv2D)              (None, 8, 8, 384)    442368      activation_78[0][0]              \n",
            "__________________________________________________________________________________________________\n",
            "conv2d_80 (Conv2D)              (None, 8, 8, 384)    442368      activation_78[0][0]              \n",
            "__________________________________________________________________________________________________\n",
            "conv2d_83 (Conv2D)              (None, 8, 8, 384)    442368      activation_82[0][0]              \n",
            "__________________________________________________________________________________________________\n",
            "conv2d_84 (Conv2D)              (None, 8, 8, 384)    442368      activation_82[0][0]              \n",
            "__________________________________________________________________________________________________\n",
            "average_pooling2d_8 (AveragePoo (None, 8, 8, 1280)   0           mixed8[0][0]                     \n",
            "__________________________________________________________________________________________________\n",
            "conv2d_77 (Conv2D)              (None, 8, 8, 320)    409600      mixed8[0][0]                     \n",
            "__________________________________________________________________________________________________\n",
            "batch_normalization_79 (BatchNo (None, 8, 8, 384)    1152        conv2d_79[0][0]                  \n",
            "__________________________________________________________________________________________________\n",
            "batch_normalization_80 (BatchNo (None, 8, 8, 384)    1152        conv2d_80[0][0]                  \n",
            "__________________________________________________________________________________________________\n",
            "batch_normalization_83 (BatchNo (None, 8, 8, 384)    1152        conv2d_83[0][0]                  \n",
            "__________________________________________________________________________________________________\n",
            "batch_normalization_84 (BatchNo (None, 8, 8, 384)    1152        conv2d_84[0][0]                  \n",
            "__________________________________________________________________________________________________\n",
            "conv2d_85 (Conv2D)              (None, 8, 8, 192)    245760      average_pooling2d_8[0][0]        \n",
            "__________________________________________________________________________________________________\n",
            "batch_normalization_77 (BatchNo (None, 8, 8, 320)    960         conv2d_77[0][0]                  \n",
            "__________________________________________________________________________________________________\n",
            "activation_79 (Activation)      (None, 8, 8, 384)    0           batch_normalization_79[0][0]     \n",
            "__________________________________________________________________________________________________\n",
            "activation_80 (Activation)      (None, 8, 8, 384)    0           batch_normalization_80[0][0]     \n",
            "__________________________________________________________________________________________________\n",
            "activation_83 (Activation)      (None, 8, 8, 384)    0           batch_normalization_83[0][0]     \n",
            "__________________________________________________________________________________________________\n",
            "activation_84 (Activation)      (None, 8, 8, 384)    0           batch_normalization_84[0][0]     \n",
            "__________________________________________________________________________________________________\n",
            "batch_normalization_85 (BatchNo (None, 8, 8, 192)    576         conv2d_85[0][0]                  \n",
            "__________________________________________________________________________________________________\n",
            "activation_77 (Activation)      (None, 8, 8, 320)    0           batch_normalization_77[0][0]     \n",
            "__________________________________________________________________________________________________\n",
            "mixed9_0 (Concatenate)          (None, 8, 8, 768)    0           activation_79[0][0]              \n",
            "                                                                 activation_80[0][0]              \n",
            "__________________________________________________________________________________________________\n",
            "concatenate_1 (Concatenate)     (None, 8, 8, 768)    0           activation_83[0][0]              \n",
            "                                                                 activation_84[0][0]              \n",
            "__________________________________________________________________________________________________\n",
            "activation_85 (Activation)      (None, 8, 8, 192)    0           batch_normalization_85[0][0]     \n",
            "__________________________________________________________________________________________________\n",
            "mixed9 (Concatenate)            (None, 8, 8, 2048)   0           activation_77[0][0]              \n",
            "                                                                 mixed9_0[0][0]                   \n",
            "                                                                 concatenate_1[0][0]              \n",
            "                                                                 activation_85[0][0]              \n",
            "__________________________________________________________________________________________________\n",
            "conv2d_90 (Conv2D)              (None, 8, 8, 448)    917504      mixed9[0][0]                     \n",
            "__________________________________________________________________________________________________\n",
            "batch_normalization_90 (BatchNo (None, 8, 8, 448)    1344        conv2d_90[0][0]                  \n",
            "__________________________________________________________________________________________________\n",
            "activation_90 (Activation)      (None, 8, 8, 448)    0           batch_normalization_90[0][0]     \n",
            "__________________________________________________________________________________________________\n",
            "conv2d_87 (Conv2D)              (None, 8, 8, 384)    786432      mixed9[0][0]                     \n",
            "__________________________________________________________________________________________________\n",
            "conv2d_91 (Conv2D)              (None, 8, 8, 384)    1548288     activation_90[0][0]              \n",
            "__________________________________________________________________________________________________\n",
            "batch_normalization_87 (BatchNo (None, 8, 8, 384)    1152        conv2d_87[0][0]                  \n",
            "__________________________________________________________________________________________________\n",
            "batch_normalization_91 (BatchNo (None, 8, 8, 384)    1152        conv2d_91[0][0]                  \n",
            "__________________________________________________________________________________________________\n",
            "activation_87 (Activation)      (None, 8, 8, 384)    0           batch_normalization_87[0][0]     \n",
            "__________________________________________________________________________________________________\n",
            "activation_91 (Activation)      (None, 8, 8, 384)    0           batch_normalization_91[0][0]     \n",
            "__________________________________________________________________________________________________\n",
            "conv2d_88 (Conv2D)              (None, 8, 8, 384)    442368      activation_87[0][0]              \n",
            "__________________________________________________________________________________________________\n",
            "conv2d_89 (Conv2D)              (None, 8, 8, 384)    442368      activation_87[0][0]              \n",
            "__________________________________________________________________________________________________\n",
            "conv2d_92 (Conv2D)              (None, 8, 8, 384)    442368      activation_91[0][0]              \n",
            "__________________________________________________________________________________________________\n",
            "conv2d_93 (Conv2D)              (None, 8, 8, 384)    442368      activation_91[0][0]              \n",
            "__________________________________________________________________________________________________\n",
            "average_pooling2d_9 (AveragePoo (None, 8, 8, 2048)   0           mixed9[0][0]                     \n",
            "__________________________________________________________________________________________________\n",
            "conv2d_86 (Conv2D)              (None, 8, 8, 320)    655360      mixed9[0][0]                     \n",
            "__________________________________________________________________________________________________\n",
            "batch_normalization_88 (BatchNo (None, 8, 8, 384)    1152        conv2d_88[0][0]                  \n",
            "__________________________________________________________________________________________________\n",
            "batch_normalization_89 (BatchNo (None, 8, 8, 384)    1152        conv2d_89[0][0]                  \n",
            "__________________________________________________________________________________________________\n",
            "batch_normalization_92 (BatchNo (None, 8, 8, 384)    1152        conv2d_92[0][0]                  \n",
            "__________________________________________________________________________________________________\n",
            "batch_normalization_93 (BatchNo (None, 8, 8, 384)    1152        conv2d_93[0][0]                  \n",
            "__________________________________________________________________________________________________\n",
            "conv2d_94 (Conv2D)              (None, 8, 8, 192)    393216      average_pooling2d_9[0][0]        \n",
            "__________________________________________________________________________________________________\n",
            "batch_normalization_86 (BatchNo (None, 8, 8, 320)    960         conv2d_86[0][0]                  \n",
            "__________________________________________________________________________________________________\n",
            "activation_88 (Activation)      (None, 8, 8, 384)    0           batch_normalization_88[0][0]     \n",
            "__________________________________________________________________________________________________\n",
            "activation_89 (Activation)      (None, 8, 8, 384)    0           batch_normalization_89[0][0]     \n",
            "__________________________________________________________________________________________________\n",
            "activation_92 (Activation)      (None, 8, 8, 384)    0           batch_normalization_92[0][0]     \n",
            "__________________________________________________________________________________________________\n",
            "activation_93 (Activation)      (None, 8, 8, 384)    0           batch_normalization_93[0][0]     \n",
            "__________________________________________________________________________________________________\n",
            "batch_normalization_94 (BatchNo (None, 8, 8, 192)    576         conv2d_94[0][0]                  \n",
            "__________________________________________________________________________________________________\n",
            "activation_86 (Activation)      (None, 8, 8, 320)    0           batch_normalization_86[0][0]     \n",
            "__________________________________________________________________________________________________\n",
            "mixed9_1 (Concatenate)          (None, 8, 8, 768)    0           activation_88[0][0]              \n",
            "                                                                 activation_89[0][0]              \n",
            "__________________________________________________________________________________________________\n",
            "concatenate_2 (Concatenate)     (None, 8, 8, 768)    0           activation_92[0][0]              \n",
            "                                                                 activation_93[0][0]              \n",
            "__________________________________________________________________________________________________\n",
            "activation_94 (Activation)      (None, 8, 8, 192)    0           batch_normalization_94[0][0]     \n",
            "__________________________________________________________________________________________________\n",
            "mixed10 (Concatenate)           (None, 8, 8, 2048)   0           activation_86[0][0]              \n",
            "                                                                 mixed9_1[0][0]                   \n",
            "                                                                 concatenate_2[0][0]              \n",
            "                                                                 activation_94[0][0]              \n",
            "__________________________________________________________________________________________________\n",
            "global_average_pooling2d_1 (Glo (None, 2048)         0           mixed10[0][0]                    \n",
            "__________________________________________________________________________________________________\n",
            "dense_1 (Dense)                 (None, 512)          1049088     global_average_pooling2d_1[0][0] \n",
            "__________________________________________________________________________________________________\n",
            "dense_2 (Dense)                 (None, 512)          262656      dense_1[0][0]                    \n",
            "__________________________________________________________________________________________________\n",
            "dense_3 (Dense)                 (None, 3)            1539        dense_2[0][0]                    \n",
            "==================================================================================================\n",
            "Total params: 23,116,067\n",
            "Trainable params: 23,081,635\n",
            "Non-trainable params: 34,432\n",
            "__________________________________________________________________________________________________\n"
          ],
          "name": "stdout"
        }
      ]
    },
    {
      "cell_type": "code",
      "metadata": {
        "id": "5W2E1RB6AwMn",
        "colab_type": "code",
        "colab": {
          "base_uri": "https://localhost:8080/",
          "height": 51
        },
        "outputId": "ab83bf93-0982-4bdf-9b81-0ad33283589b"
      },
      "source": [
        "#Test the model\n",
        "import keras\n",
        "from keras.callbacks import ModelCheckpoint\n",
        "batch_size = BATCH_SIZE\n",
        "\n",
        "\n",
        "model_test=load_model('/content/drive/My Drive/LungCancerData/Model Checkpoints/model_3010_0.851810_0.167065.hdf5')\n",
        "\n",
        "\n",
        "checkpoint = [keras.callbacks.ModelCheckpoint('content/drive/My Drive/LungCancerData/Model Checkpoints/model_test{epoch:03d}_{test_accuracy:05f}_{test_loss:05f}.hdf5', period=5)]\n",
        "\n",
        "\n",
        "history = model_test.evaluate(test_generator, verbose=1, callbacks=checkpoint)\n",
        "print(history)"
      ],
      "execution_count": 10,
      "outputs": [
        {
          "output_type": "stream",
          "text": [
            "113/113 [==============================] - 33s 292ms/step\n",
            "[0.1987462043762207, 0.7749999761581421]\n"
          ],
          "name": "stdout"
        }
      ]
    },
    {
      "cell_type": "code",
      "metadata": {
        "id": "AaWJtKVGKQSc",
        "colab_type": "code",
        "colab": {}
      },
      "source": [
        "predictions=model_test.predict(test_generator)"
      ],
      "execution_count": 11,
      "outputs": []
    },
    {
      "cell_type": "code",
      "metadata": {
        "id": "vbRGnkbIbunK",
        "colab_type": "code",
        "colab": {
          "base_uri": "https://localhost:8080/",
          "height": 34
        },
        "outputId": "36dfc492-0b41-4874-c195-957593e4ca43"
      },
      "source": [
        "model_test.metrics_names"
      ],
      "execution_count": null,
      "outputs": [
        {
          "output_type": "execute_result",
          "data": {
            "text/plain": [
              "['loss', 'accuracy']"
            ]
          },
          "metadata": {
            "tags": []
          },
          "execution_count": 19
        }
      ]
    },
    {
      "cell_type": "code",
      "metadata": {
        "id": "dKYFSiRICrQZ",
        "colab_type": "code",
        "colab": {
          "base_uri": "https://localhost:8080/",
          "height": 68
        },
        "outputId": "2b13fbf2-93c2-45a4-cfe9-a1ffb09d4ade"
      },
      "source": [
        "from sklearn import metrics\n",
        "print(metrics.confusion_matrix(np.argmax(y_test_ohe, axis=1), np.argmax(predictions,axis=1)))\n",
        "#metrics.accuracy_score(np.argmax(y_test_ohe, axis=1), np.argmax(predictions,axis=1))\n",
        "#metrics.roc(np.argmax(y_test_odd_ohe, axis=1), np.argmax(predictions,axis=1))\n",
        "#import sklearn\n",
        "#sklearn.metrics.precision_score(np.argmax(y_test_ohe, axis=1), np.argmax(predictions,axis=1), average='macro')\n",
        "#sklearn.metrics.recall_score(np.argmax(y_test_ohe, axis=1), np.argmax(predictions,axis=1), average='macro')\n",
        "#sklearn.metrics.f1_score(np.argmax(y_test_ohe, axis=1), np.argmax(predictions,axis=1), average='weighted')"
      ],
      "execution_count": 29,
      "outputs": [
        {
          "output_type": "stream",
          "text": [
            "[[ 292  150  134]\n",
            " [  19 1004  227]\n",
            " [  27  253 1494]]\n"
          ],
          "name": "stdout"
        }
      ]
    },
    {
      "cell_type": "markdown",
      "metadata": {
        "id": "MDrNUeIyjh-O",
        "colab_type": "text"
      },
      "source": [
        "Sensitivity for class 1: 0.5\n",
        "Specificity for class 1: 0.98\n",
        "Sensitivity for class 2: 0.8\n",
        "Specificity for class 2: 0.83\n",
        "Sensitivity for class 3: 0.84\n",
        "Specificity for class 3: 0.80"
      ]
    },
    {
      "cell_type": "markdown",
      "metadata": {
        "id": "ZBpT4Ha1-qLj",
        "colab_type": "text"
      },
      "source": [
        "#AUC-ROC"
      ]
    },
    {
      "cell_type": "code",
      "metadata": {
        "id": "w7_jd_6gzLt-",
        "colab_type": "code",
        "colab": {
          "base_uri": "https://localhost:8080/",
          "height": 153
        },
        "outputId": "9d1b594b-7ddc-4c49-bd5a-7f60e09160c9"
      },
      "source": [
        "print(y_test_ohe.argmax(axis=1).shape)\n",
        "print(y_test_ohe.argmax(axis=1).shape)\n",
        "print(y_test_ohe[0:5])\n",
        "print(predictions[0])"
      ],
      "execution_count": null,
      "outputs": [
        {
          "output_type": "stream",
          "text": [
            "(3600, 1)\n",
            "(3600, 1)\n",
            "[[1 0 0]\n",
            " [1 0 0]\n",
            " [0 1 0]\n",
            " [0 0 1]\n",
            " [0 1 0]]\n",
            "[1.0961950e-03 8.4590036e-05 9.9881917e-01]\n"
          ],
          "name": "stdout"
        }
      ]
    },
    {
      "cell_type": "code",
      "metadata": {
        "id": "L0g1urZS0CLt",
        "colab_type": "code",
        "colab": {
          "base_uri": "https://localhost:8080/",
          "height": 307
        },
        "outputId": "09d87646-edc4-4eb1-afc2-cee5f52db5f5"
      },
      "source": [
        "fpr, tpr, thresholds = roc_curve(np.argmax(y_test_ohe, axis=1), np.argmax(predictions,axis=1))"
      ],
      "execution_count": null,
      "outputs": [
        {
          "output_type": "error",
          "ename": "ValueError",
          "evalue": "ignored",
          "traceback": [
            "\u001b[0;31m---------------------------------------------------------------------------\u001b[0m",
            "\u001b[0;31mValueError\u001b[0m                                Traceback (most recent call last)",
            "\u001b[0;32m<ipython-input-45-03c7adaa3826>\u001b[0m in \u001b[0;36m<module>\u001b[0;34m()\u001b[0m\n\u001b[0;32m----> 1\u001b[0;31m \u001b[0mfpr\u001b[0m\u001b[0;34m,\u001b[0m \u001b[0mtpr\u001b[0m\u001b[0;34m,\u001b[0m \u001b[0mthresholds\u001b[0m \u001b[0;34m=\u001b[0m \u001b[0mroc_curve\u001b[0m\u001b[0;34m(\u001b[0m\u001b[0mnp\u001b[0m\u001b[0;34m.\u001b[0m\u001b[0margmax\u001b[0m\u001b[0;34m(\u001b[0m\u001b[0my_test_ohe\u001b[0m\u001b[0;34m,\u001b[0m \u001b[0maxis\u001b[0m\u001b[0;34m=\u001b[0m\u001b[0;36m1\u001b[0m\u001b[0;34m)\u001b[0m\u001b[0;34m,\u001b[0m \u001b[0mnp\u001b[0m\u001b[0;34m.\u001b[0m\u001b[0margmax\u001b[0m\u001b[0;34m(\u001b[0m\u001b[0mpredictions\u001b[0m\u001b[0;34m,\u001b[0m\u001b[0maxis\u001b[0m\u001b[0;34m=\u001b[0m\u001b[0;36m1\u001b[0m\u001b[0;34m)\u001b[0m\u001b[0;34m)\u001b[0m\u001b[0;34m\u001b[0m\u001b[0;34m\u001b[0m\u001b[0m\n\u001b[0m",
            "\u001b[0;32m/usr/local/lib/python3.6/dist-packages/sklearn/metrics/_ranking.py\u001b[0m in \u001b[0;36mroc_curve\u001b[0;34m(y_true, y_score, pos_label, sample_weight, drop_intermediate)\u001b[0m\n\u001b[1;32m    769\u001b[0m     \"\"\"\n\u001b[1;32m    770\u001b[0m     fps, tps, thresholds = _binary_clf_curve(\n\u001b[0;32m--> 771\u001b[0;31m         y_true, y_score, pos_label=pos_label, sample_weight=sample_weight)\n\u001b[0m\u001b[1;32m    772\u001b[0m \u001b[0;34m\u001b[0m\u001b[0m\n\u001b[1;32m    773\u001b[0m     \u001b[0;31m# Attempt to drop thresholds corresponding to points in between and\u001b[0m\u001b[0;34m\u001b[0m\u001b[0;34m\u001b[0m\u001b[0;34m\u001b[0m\u001b[0m\n",
            "\u001b[0;32m/usr/local/lib/python3.6/dist-packages/sklearn/metrics/_ranking.py\u001b[0m in \u001b[0;36m_binary_clf_curve\u001b[0;34m(y_true, y_score, pos_label, sample_weight)\u001b[0m\n\u001b[1;32m    534\u001b[0m     if not (y_type == \"binary\" or\n\u001b[1;32m    535\u001b[0m             (y_type == \"multiclass\" and pos_label is not None)):\n\u001b[0;32m--> 536\u001b[0;31m         \u001b[0;32mraise\u001b[0m \u001b[0mValueError\u001b[0m\u001b[0;34m(\u001b[0m\u001b[0;34m\"{0} format is not supported\"\u001b[0m\u001b[0;34m.\u001b[0m\u001b[0mformat\u001b[0m\u001b[0;34m(\u001b[0m\u001b[0my_type\u001b[0m\u001b[0;34m)\u001b[0m\u001b[0;34m)\u001b[0m\u001b[0;34m\u001b[0m\u001b[0;34m\u001b[0m\u001b[0m\n\u001b[0m\u001b[1;32m    537\u001b[0m \u001b[0;34m\u001b[0m\u001b[0m\n\u001b[1;32m    538\u001b[0m     \u001b[0mcheck_consistent_length\u001b[0m\u001b[0;34m(\u001b[0m\u001b[0my_true\u001b[0m\u001b[0;34m,\u001b[0m \u001b[0my_score\u001b[0m\u001b[0;34m,\u001b[0m \u001b[0msample_weight\u001b[0m\u001b[0;34m)\u001b[0m\u001b[0;34m\u001b[0m\u001b[0;34m\u001b[0m\u001b[0m\n",
            "\u001b[0;31mValueError\u001b[0m: multiclass format is not supported"
          ]
        }
      ]
    },
    {
      "cell_type": "code",
      "metadata": {
        "id": "cfnXhfneDxHm",
        "colab_type": "code",
        "colab": {
          "base_uri": "https://localhost:8080/",
          "height": 760
        },
        "outputId": "124a46ff-fc8f-4357-8363-50fe2f70c9e4"
      },
      "source": [
        "import numpy as np\n",
        "import matplotlib.pyplot as plt\n",
        "from itertools import cycle\n",
        "\n",
        "from sklearn import svm, datasets\n",
        "from sklearn.metrics import roc_curve, auc\n",
        "from sklearn.model_selection import train_test_split\n",
        "from sklearn.preprocessing import label_binarize\n",
        "from sklearn.multiclass import OneVsRestClassifier\n",
        "from scipy import interp\n",
        "from sklearn.metrics import roc_auc_score\n",
        "\n",
        "\n",
        "\n",
        "macro_roc_auc_ovo = roc_auc_score(y_test_ohe, predictions, multi_class=\"ovo\",\n",
        "                                  average=\"macro\")\n",
        "weighted_roc_auc_ovo = roc_auc_score(y_test_ohe, predictions, multi_class=\"ovo\",\n",
        "                                     average=\"weighted\")\n",
        "macro_roc_auc_ovr = roc_auc_score(y_test_ohe, predictions, multi_class=\"ovr\",\n",
        "                                  average=\"macro\")\n",
        "weighted_roc_auc_ovr = roc_auc_score(y_test_ohe, predictions, multi_class=\"ovr\",\n",
        "                                     average=\"weighted\")\n",
        "micro_roc_auc_ovo = roc_auc_score(y_test_ohe, predictions, multi_class=\"ovo\",\n",
        "                                  average=\"micro\")\n",
        "micro_roc_auc_ovr = roc_auc_score(y_test_ohe, predictions, multi_class=\"ovr\",\n",
        "                                  average=\"micro\")\n",
        "\n",
        "print(\"One-vs-One ROC AUC scores:\\n{:.6f} (macro),\\n{:.6f} \"\n",
        "      \"(weighted by prevalence)\"\n",
        "      .format(macro_roc_auc_ovo, weighted_roc_auc_ovo))\n",
        "print(\"One-vs-Rest ROC AUC scores:\\n{:.6f} (macro),\\n{:.6f} \"\n",
        "      \"(weighted by prevalence)\"\n",
        "      .format(macro_roc_auc_ovr, weighted_roc_auc_ovr))\n",
        "\n",
        "\n",
        "# Plot all ROC curves\n",
        "fpr = dict()\n",
        "tpr = dict()\n",
        "roc_auc = dict()\n",
        "n_classes=3\n",
        "for i in range(n_classes):\n",
        "    fpr[i], tpr[i], _ = roc_curve(y_test_ohe[:, i], predictions[:, i])\n",
        "    roc_auc[i] = auc(fpr[i], tpr[i])\n",
        "all_fpr = np.unique(np.concatenate([fpr[i] for i in range(n_classes)]))\n",
        "\n",
        "# Then interpolate all ROC curves at this points\n",
        "mean_tpr = np.zeros_like(all_fpr)\n",
        "for i in range(n_classes):\n",
        "    mean_tpr += interp(all_fpr, fpr[i], tpr[i])\n",
        "\n",
        "# Finally average it and compute AUC\n",
        "mean_tpr /= n_classes\n",
        "\n",
        "\n",
        "fpr[\"macro\"] = all_fpr\n",
        "tpr[\"macro\"] = mean_tpr\n",
        "roc_auc[\"macro\"] = auc(fpr[\"macro\"], tpr[\"macro\"])\n",
        "#fpr[\"micro\"], tpr[\"micro\"], _ = roc_curve(y_test_ohe.reshape(-1), predictions.reshape(-1))\n",
        "#roc_auc[\"micro\"] = auc(fpr[\"micro\"], tpr[\"micro\"])\n",
        "\n",
        "# Plot all ROC curves\n",
        "plt.figure(figsize=(10,10))\n",
        "#plt.plot(fpr[\"micro\"], tpr[\"micro\"],\n",
        " #        label='micro-average ROC curve (area = {0:0.2f})'\n",
        "  #             ''.format(micro_roc_auc_ovo),\n",
        "   #      color='deeppink', linestyle=':', linewidth=4)\n",
        "\n",
        "plt.plot(fpr[\"macro\"], tpr[\"macro\"],\n",
        "         label='macro-average ROC curve (area = {0:0.3f})'\n",
        "               ''.format(roc_auc[\"macro\"]),\n",
        "         color='navy', linestyle=':', linewidth=4)\n",
        "# Plot of a ROC curve for a specific class\n",
        "classes=[\"Adenocarcinoma\", \"Large cell\", \"Squamous cell Carcinoma\"]\n",
        "i=0\n",
        "for name, color in zip(classes, colors):\n",
        "    plt.plot(fpr[i], tpr[i], color=color, lw=lw,\n",
        "             label='ROC curve for {0} (area = {1:0.3f})'\n",
        "             ''.format(name, roc_auc[i]))\n",
        "    i=i+1\n",
        "    \n",
        "#for i in range(n_classes):\n",
        " #   plt.figure()\n",
        "  #  plt.plot(fpr[i], tpr[i], label='ROC curve (area = %0.2f)' % roc_auc[i])\n",
        "plt.plot([0, 1], [0, 1], 'k--')\n",
        "plt.xlim([0.0, 1.0])\n",
        "plt.ylim([0.0, 1.05])\n",
        "plt.xlabel('False Positive Rate')\n",
        "plt.ylabel('True Positive Rate')\n",
        "plt.title('Receiver operating characteristics')\n",
        "plt.legend(loc=\"lower right\")\n",
        "plt.show()"
      ],
      "execution_count": null,
      "outputs": [
        {
          "output_type": "stream",
          "text": [
            "One-vs-One ROC AUC scores:\n",
            "0.896082 (macro),\n",
            "0.897371 (weighted by prevalence)\n",
            "One-vs-Rest ROC AUC scores:\n",
            "0.896082 (macro),\n",
            "0.897371 (weighted by prevalence)\n"
          ],
          "name": "stdout"
        },
        {
          "output_type": "stream",
          "text": [
            "/usr/local/lib/python3.6/dist-packages/ipykernel_launcher.py:49: DeprecationWarning: scipy.interp is deprecated and will be removed in SciPy 2.0.0, use numpy.interp instead\n"
          ],
          "name": "stderr"
        },
        {
          "output_type": "display_data",
          "data": {
            "image/png": "[encoded data removed]",
            "text/plain": [
              "<Figure size 720x720 with 1 Axes>"
            ]
          },
          "metadata": {
            "tags": [],
            "needs_background": "light"
          }
        }
      ]
    },
    {
      "cell_type": "markdown",
      "metadata": {
        "id": "1QD4OPIQUmDx",
        "colab_type": "text"
      },
      "source": [
        "# Confidence interval"
      ]
    },
    {
      "cell_type": "code",
      "metadata": {
        "id": "gpGM-nfIUpL9",
        "colab_type": "code",
        "colab": {
          "base_uri": "https://localhost:8080/",
          "height": 51
        },
        "outputId": "4ce20f00-0fe0-4512-9c17-ae92a9d408bf"
      },
      "source": [
        "#95% confidence interval of accuracy is 77.4% +/- 1.36%\n",
        "#95% confidence interval of loss is 19.9% +/- 1.3%\n",
        "acc=0.7749999761581421\n",
        "from math import sqrt\n",
        "loss=0.1987452507019043\n",
        "interval_l=1.96*sqrt((loss*(1-loss))/3600)\n",
        "interval_a=1.96*sqrt((acc*(1-acc))/3600)\n",
        "print(interval_l)\n",
        "print(interval_a)"
      ],
      "execution_count": null,
      "outputs": [
        {
          "output_type": "stream",
          "text": [
            "0.013035824621861522\n",
            "0.013641023201836829\n"
          ],
          "name": "stdout"
        }
      ]
    },
    {
      "cell_type": "code",
      "metadata": {
        "id": "oG4A9J-u0Vic",
        "colab_type": "code",
        "colab": {}
      },
      "source": [
        "import numpy as np\n",
        "import scipy.stats\n",
        "\n",
        "\n",
        "def mean_confidence_interval(data, confidence=0.95):\n",
        "    a = 1.0 * np.array(data)\n",
        "    n = len(a)\n",
        "    m, se = np.mean(a), scipy.stats.sem(a)\n",
        "    h = se * scipy.stats.t.ppf((1 + confidence) / 2., n-1)\n",
        "    return m, m-h, m+h"
      ],
      "execution_count": null,
      "outputs": []
    },
    {
      "cell_type": "markdown",
      "metadata": {
        "id": "2RDPQRTb1rMl",
        "colab_type": "text"
      },
      "source": [
        "#Gradcam(not working)"
      ]
    },
    {
      "cell_type": "code",
      "metadata": {
        "id": "f3khWwUE1p4s",
        "colab_type": "code",
        "colab": {}
      },
      "source": [
        "import numpy as np\n",
        "import tensorflow as tf\n",
        "from tensorflow import keras\n",
        "\n",
        "# Display\n",
        "from IPython.display import Image\n",
        "import matplotlib.pyplot as plt\n",
        "import matplotlib.cm as cm\n"
      ],
      "execution_count": null,
      "outputs": []
    },
    {
      "cell_type": "code",
      "metadata": {
        "id": "Zhhibtvv1v35",
        "colab_type": "code",
        "colab": {
          "base_uri": "https://localhost:8080/",
          "height": 529
        },
        "outputId": "d65d63ce-8eef-4ed4-e6f3-abcc55b46483"
      },
      "source": [
        "from keras.models import load_model\n",
        "from sklearn.model_selection import train_test_split\n",
        "from keras.preprocessing.image import img_to_array, load_img\n",
        "\n",
        "model_builder=load_model('/content/drive/My Drive/LungCancerData/Model Checkpoints/model_3010_0.851810_0.167065.hdf5')\n",
        "img_size = (299, 299)\n",
        "preprocess_input = keras.applications.xception.preprocess_input\n",
        "decode_predictions = keras.applications.xception.decode_predictions\n",
        "\n",
        "last_conv_layer_name = \"global_average_pooling2d_1\"\n",
        "classifier_layer_names = [\n",
        "    \"avg_pool\",\n",
        "    \"predictions\",\n",
        "]\n",
        "\n",
        "# The local path to our target image\n",
        "img_path = \"/content/drive/My Drive/LungCancerData/LungCancer/Large Cell/LUNG1-298/png/LUNG1-298output-slice55.jpg\"\n",
        "\n",
        "display(Image(img_path))"
      ],
      "execution_count": null,
      "outputs": [
        {
          "output_type": "display_data",
          "data": {
            "image/jpeg": "[encoded data removed]",
            "text/plain": [
              "<IPython.core.display.Image object>"
            ]
          },
          "metadata": {
            "tags": []
          }
        }
      ]
    },
    {
      "cell_type": "code",
      "metadata": {
        "id": "uVuAn6C42bVz",
        "colab_type": "code",
        "colab": {}
      },
      "source": [
        "def get_img_array(img_path, size):\n",
        "    # `img` is a PIL image of size 299x299\n",
        "    img = keras.preprocessing.image.load_img(img_path, target_size=size)\n",
        "    # `array` is a float32 Numpy array of shape (299, 299, 3)\n",
        "    array = keras.preprocessing.image.img_to_array(img)\n",
        "    # We add a dimension to transform our array into a \"batch\"\n",
        "    # of size (1, 299, 299, 3)\n",
        "    array = np.expand_dims(array, axis=0)\n",
        "    return array\n",
        "\n",
        "\n",
        "def make_gradcam_heatmap(\n",
        "    img_array, model, last_conv_layer_name, classifier_layer_names\n",
        "):\n",
        "    # First, we create a model that maps the input image to the activations\n",
        "    # of the last conv layer\n",
        "    last_conv_layer = model.get_layer(last_conv_layer_name)\n",
        "    last_conv_layer_model = keras.Model(model.inputs, last_conv_layer.output)\n",
        "\n",
        "    # Second, we create a model that maps the activations of the last conv\n",
        "    # layer to the final class predictions\n",
        "    classifier_input = keras.Input(shape=last_conv_layer.output.shape[1:])\n",
        "    x = classifier_input\n",
        "    for layer_name in classifier_layer_names:\n",
        "        x = model.get_layer(layer_name)(x)\n",
        "    classifier_model = keras.Model(classifier_input, x)\n",
        "\n",
        "    # Then, we compute the gradient of the top predicted class for our input image\n",
        "    # with respect to the activations of the last conv layer\n",
        "    with tf.GradientTape() as tape:\n",
        "        # Compute activations of the last conv layer and make the tape watch it\n",
        "        last_conv_layer_output = last_conv_layer_model(img_array)\n",
        "        tape.watch(last_conv_layer_output)\n",
        "        # Compute class predictions\n",
        "        preds = classifier_model(last_conv_layer_output)\n",
        "        top_pred_index = tf.argmax(preds[0])\n",
        "        top_class_channel = preds[:, top_pred_index]\n",
        "\n",
        "    # This is the gradient of the top predicted class with regard to\n",
        "    # the output feature map of the last conv layer\n",
        "    grads = tape.gradient(top_class_channel, last_conv_layer_output)\n",
        "\n",
        "    # This is a vector where each entry is the mean intensity of the gradient\n",
        "    # over a specific feature map channel\n",
        "    pooled_grads = tf.reduce_mean(grads, axis=(0, 1, 2))\n",
        "\n",
        "    # We multiply each channel in the feature map array\n",
        "    # by \"how important this channel is\" with regard to the top predicted class\n",
        "    last_conv_layer_output = last_conv_layer_output.numpy()[0]\n",
        "    pooled_grads = pooled_grads.numpy()\n",
        "    for i in range(pooled_grads.shape[-1]):\n",
        "        last_conv_layer_output[:, :, i] *= pooled_grads[i]\n",
        "\n",
        "    # The channel-wise mean of the resulting feature map\n",
        "    # is our heatmap of class activation\n",
        "    heatmap = np.mean(last_conv_layer_output, axis=-1)\n",
        "\n",
        "    # For visualization purpose, we will also normalize the heatmap between 0 & 1\n",
        "    heatmap = np.maximum(heatmap, 0) / np.max(heatmap)\n",
        "    return heatmap"
      ],
      "execution_count": null,
      "outputs": []
    },
    {
      "cell_type": "code",
      "metadata": {
        "id": "qckVWMk_3fBg",
        "colab_type": "code",
        "colab": {
          "base_uri": "https://localhost:8080/",
          "height": 409
        },
        "outputId": "4bbc69da-7b07-4451-ca2a-d8ae73fd104b"
      },
      "source": [
        "img_array = preprocess_input(get_img_array(img_path, size=img_size))\n",
        "\n",
        "# Make model\n",
        "#model = model_builder(weights=\"imagenet\")\n",
        "\n",
        "# Print what the top predicted class is\n",
        "preds = model_builder.predict(img_array)\n",
        "print(\"Predicted:\")\n",
        "print(preds)\n",
        "\n",
        "# Generate class activation heatmap\n",
        "heatmap = make_gradcam_heatmap(\n",
        "    img_array, model_builder, last_conv_layer_name, classifier_layer_names\n",
        ")\n",
        "\n",
        "# Display heatmap\n",
        "plt.matshow(heatmap)\n",
        "plt.show()"
      ],
      "execution_count": null,
      "outputs": [
        {
          "output_type": "stream",
          "text": [
            "Predicted:\n",
            "[[4.0672376e-06 1.1545801e-07 9.9999583e-01]]\n"
          ],
          "name": "stdout"
        },
        {
          "output_type": "error",
          "ename": "AttributeError",
          "evalue": "ignored",
          "traceback": [
            "\u001b[0;31m---------------------------------------------------------------------------\u001b[0m",
            "\u001b[0;31mAttributeError\u001b[0m                            Traceback (most recent call last)",
            "\u001b[0;32m<ipython-input-24-3c8ca1b9f1b0>\u001b[0m in \u001b[0;36m<module>\u001b[0;34m()\u001b[0m\n\u001b[1;32m     11\u001b[0m \u001b[0;31m# Generate class activation heatmap\u001b[0m\u001b[0;34m\u001b[0m\u001b[0;34m\u001b[0m\u001b[0;34m\u001b[0m\u001b[0m\n\u001b[1;32m     12\u001b[0m heatmap = make_gradcam_heatmap(\n\u001b[0;32m---> 13\u001b[0;31m     \u001b[0mimg_array\u001b[0m\u001b[0;34m,\u001b[0m \u001b[0mmodel_builder\u001b[0m\u001b[0;34m,\u001b[0m \u001b[0mlast_conv_layer_name\u001b[0m\u001b[0;34m,\u001b[0m \u001b[0mclassifier_layer_names\u001b[0m\u001b[0;34m\u001b[0m\u001b[0;34m\u001b[0m\u001b[0m\n\u001b[0m\u001b[1;32m     14\u001b[0m )\n\u001b[1;32m     15\u001b[0m \u001b[0;34m\u001b[0m\u001b[0m\n",
            "\u001b[0;32m<ipython-input-18-b4f703b1f542>\u001b[0m in \u001b[0;36mmake_gradcam_heatmap\u001b[0;34m(img_array, model, last_conv_layer_name, classifier_layer_names)\u001b[0m\n\u001b[1;32m     16\u001b[0m     \u001b[0;31m# of the last conv layer\u001b[0m\u001b[0;34m\u001b[0m\u001b[0;34m\u001b[0m\u001b[0;34m\u001b[0m\u001b[0m\n\u001b[1;32m     17\u001b[0m     \u001b[0mlast_conv_layer\u001b[0m \u001b[0;34m=\u001b[0m \u001b[0mmodel\u001b[0m\u001b[0;34m.\u001b[0m\u001b[0mget_layer\u001b[0m\u001b[0;34m(\u001b[0m\u001b[0mlast_conv_layer_name\u001b[0m\u001b[0;34m)\u001b[0m\u001b[0;34m\u001b[0m\u001b[0;34m\u001b[0m\u001b[0m\n\u001b[0;32m---> 18\u001b[0;31m     \u001b[0mlast_conv_layer_model\u001b[0m \u001b[0;34m=\u001b[0m \u001b[0mkeras\u001b[0m\u001b[0;34m.\u001b[0m\u001b[0mModel\u001b[0m\u001b[0;34m(\u001b[0m\u001b[0mmodel\u001b[0m\u001b[0;34m.\u001b[0m\u001b[0minputs\u001b[0m\u001b[0;34m,\u001b[0m \u001b[0mlast_conv_layer\u001b[0m\u001b[0;34m.\u001b[0m\u001b[0moutput\u001b[0m\u001b[0;34m)\u001b[0m\u001b[0;34m\u001b[0m\u001b[0;34m\u001b[0m\u001b[0m\n\u001b[0m\u001b[1;32m     19\u001b[0m \u001b[0;34m\u001b[0m\u001b[0m\n\u001b[1;32m     20\u001b[0m     \u001b[0;31m# Second, we create a model that maps the activations of the last conv\u001b[0m\u001b[0;34m\u001b[0m\u001b[0;34m\u001b[0m\u001b[0;34m\u001b[0m\u001b[0m\n",
            "\u001b[0;32m/usr/local/lib/python3.6/dist-packages/tensorflow/python/keras/engine/training.py\u001b[0m in \u001b[0;36m__init__\u001b[0;34m(self, *args, **kwargs)\u001b[0m\n\u001b[1;32m    165\u001b[0m \u001b[0;34m\u001b[0m\u001b[0m\n\u001b[1;32m    166\u001b[0m   \u001b[0;32mdef\u001b[0m \u001b[0m__init__\u001b[0m\u001b[0;34m(\u001b[0m\u001b[0mself\u001b[0m\u001b[0;34m,\u001b[0m \u001b[0;34m*\u001b[0m\u001b[0margs\u001b[0m\u001b[0;34m,\u001b[0m \u001b[0;34m**\u001b[0m\u001b[0mkwargs\u001b[0m\u001b[0;34m)\u001b[0m\u001b[0;34m:\u001b[0m\u001b[0;34m\u001b[0m\u001b[0;34m\u001b[0m\u001b[0m\n\u001b[0;32m--> 167\u001b[0;31m     \u001b[0msuper\u001b[0m\u001b[0;34m(\u001b[0m\u001b[0mModel\u001b[0m\u001b[0;34m,\u001b[0m \u001b[0mself\u001b[0m\u001b[0;34m)\u001b[0m\u001b[0;34m.\u001b[0m\u001b[0m__init__\u001b[0m\u001b[0;34m(\u001b[0m\u001b[0;34m*\u001b[0m\u001b[0margs\u001b[0m\u001b[0;34m,\u001b[0m \u001b[0;34m**\u001b[0m\u001b[0mkwargs\u001b[0m\u001b[0;34m)\u001b[0m\u001b[0;34m\u001b[0m\u001b[0;34m\u001b[0m\u001b[0m\n\u001b[0m\u001b[1;32m    168\u001b[0m     \u001b[0m_keras_api_gauge\u001b[0m\u001b[0;34m.\u001b[0m\u001b[0mget_cell\u001b[0m\u001b[0;34m(\u001b[0m\u001b[0;34m'model'\u001b[0m\u001b[0;34m)\u001b[0m\u001b[0;34m.\u001b[0m\u001b[0mset\u001b[0m\u001b[0;34m(\u001b[0m\u001b[0;32mTrue\u001b[0m\u001b[0;34m)\u001b[0m\u001b[0;34m\u001b[0m\u001b[0;34m\u001b[0m\u001b[0m\n\u001b[1;32m    169\u001b[0m     \u001b[0;31m# Model must be created under scope of DistStrat it will be trained with.\u001b[0m\u001b[0;34m\u001b[0m\u001b[0;34m\u001b[0m\u001b[0;34m\u001b[0m\u001b[0m\n",
            "\u001b[0;32m/usr/local/lib/python3.6/dist-packages/tensorflow/python/keras/engine/network.py\u001b[0m in \u001b[0;36m__init__\u001b[0;34m(self, *args, **kwargs)\u001b[0m\n\u001b[1;32m    171\u001b[0m         'inputs' in kwargs and 'outputs' in kwargs):\n\u001b[1;32m    172\u001b[0m       \u001b[0;31m# Graph network\u001b[0m\u001b[0;34m\u001b[0m\u001b[0;34m\u001b[0m\u001b[0;34m\u001b[0m\u001b[0m\n\u001b[0;32m--> 173\u001b[0;31m       \u001b[0mself\u001b[0m\u001b[0;34m.\u001b[0m\u001b[0m_init_graph_network\u001b[0m\u001b[0;34m(\u001b[0m\u001b[0;34m*\u001b[0m\u001b[0margs\u001b[0m\u001b[0;34m,\u001b[0m \u001b[0;34m**\u001b[0m\u001b[0mkwargs\u001b[0m\u001b[0;34m)\u001b[0m\u001b[0;34m\u001b[0m\u001b[0;34m\u001b[0m\u001b[0m\n\u001b[0m\u001b[1;32m    174\u001b[0m     \u001b[0;32melse\u001b[0m\u001b[0;34m:\u001b[0m\u001b[0;34m\u001b[0m\u001b[0;34m\u001b[0m\u001b[0m\n\u001b[1;32m    175\u001b[0m       \u001b[0;31m# Subclassed network\u001b[0m\u001b[0;34m\u001b[0m\u001b[0;34m\u001b[0m\u001b[0;34m\u001b[0m\u001b[0m\n",
            "\u001b[0;32m/usr/local/lib/python3.6/dist-packages/tensorflow/python/training/tracking/base.py\u001b[0m in \u001b[0;36m_method_wrapper\u001b[0;34m(self, *args, **kwargs)\u001b[0m\n\u001b[1;32m    454\u001b[0m     \u001b[0mself\u001b[0m\u001b[0;34m.\u001b[0m\u001b[0m_self_setattr_tracking\u001b[0m \u001b[0;34m=\u001b[0m \u001b[0;32mFalse\u001b[0m  \u001b[0;31m# pylint: disable=protected-access\u001b[0m\u001b[0;34m\u001b[0m\u001b[0;34m\u001b[0m\u001b[0m\n\u001b[1;32m    455\u001b[0m     \u001b[0;32mtry\u001b[0m\u001b[0;34m:\u001b[0m\u001b[0;34m\u001b[0m\u001b[0;34m\u001b[0m\u001b[0m\n\u001b[0;32m--> 456\u001b[0;31m       \u001b[0mresult\u001b[0m \u001b[0;34m=\u001b[0m \u001b[0mmethod\u001b[0m\u001b[0;34m(\u001b[0m\u001b[0mself\u001b[0m\u001b[0;34m,\u001b[0m \u001b[0;34m*\u001b[0m\u001b[0margs\u001b[0m\u001b[0;34m,\u001b[0m \u001b[0;34m**\u001b[0m\u001b[0mkwargs\u001b[0m\u001b[0;34m)\u001b[0m\u001b[0;34m\u001b[0m\u001b[0;34m\u001b[0m\u001b[0m\n\u001b[0m\u001b[1;32m    457\u001b[0m     \u001b[0;32mfinally\u001b[0m\u001b[0;34m:\u001b[0m\u001b[0;34m\u001b[0m\u001b[0;34m\u001b[0m\u001b[0m\n\u001b[1;32m    458\u001b[0m       \u001b[0mself\u001b[0m\u001b[0;34m.\u001b[0m\u001b[0m_self_setattr_tracking\u001b[0m \u001b[0;34m=\u001b[0m \u001b[0mprevious_value\u001b[0m  \u001b[0;31m# pylint: disable=protected-access\u001b[0m\u001b[0;34m\u001b[0m\u001b[0;34m\u001b[0m\u001b[0m\n",
            "\u001b[0;32m/usr/local/lib/python3.6/dist-packages/tensorflow/python/keras/engine/network.py\u001b[0m in \u001b[0;36m_init_graph_network\u001b[0;34m(self, inputs, outputs, name, **kwargs)\u001b[0m\n\u001b[1;32m    255\u001b[0m \u001b[0;34m\u001b[0m\u001b[0m\n\u001b[1;32m    256\u001b[0m     \u001b[0mself\u001b[0m\u001b[0;34m.\u001b[0m\u001b[0m_base_init\u001b[0m\u001b[0;34m(\u001b[0m\u001b[0mname\u001b[0m\u001b[0;34m=\u001b[0m\u001b[0mname\u001b[0m\u001b[0;34m,\u001b[0m \u001b[0;34m**\u001b[0m\u001b[0mkwargs\u001b[0m\u001b[0;34m)\u001b[0m\u001b[0;34m\u001b[0m\u001b[0;34m\u001b[0m\u001b[0m\n\u001b[0;32m--> 257\u001b[0;31m     \u001b[0mself\u001b[0m\u001b[0;34m.\u001b[0m\u001b[0m_validate_graph_inputs_and_outputs\u001b[0m\u001b[0;34m(\u001b[0m\u001b[0;34m)\u001b[0m\u001b[0;34m\u001b[0m\u001b[0;34m\u001b[0m\u001b[0m\n\u001b[0m\u001b[1;32m    258\u001b[0m \u001b[0;34m\u001b[0m\u001b[0m\n\u001b[1;32m    259\u001b[0m     \u001b[0;31m# A Network does not create weights of its own, thus it is already\u001b[0m\u001b[0;34m\u001b[0m\u001b[0;34m\u001b[0m\u001b[0;34m\u001b[0m\u001b[0m\n",
            "\u001b[0;32m/usr/local/lib/python3.6/dist-packages/tensorflow/python/keras/engine/network.py\u001b[0m in \u001b[0;36m_validate_graph_inputs_and_outputs\u001b[0;34m(self)\u001b[0m\n\u001b[1;32m   1373\u001b[0m       \u001b[0;31m# Check that x is an input tensor.\u001b[0m\u001b[0;34m\u001b[0m\u001b[0;34m\u001b[0m\u001b[0;34m\u001b[0m\u001b[0m\n\u001b[1;32m   1374\u001b[0m       \u001b[0;31m# pylint: disable=protected-access\u001b[0m\u001b[0;34m\u001b[0m\u001b[0;34m\u001b[0m\u001b[0;34m\u001b[0m\u001b[0m\n\u001b[0;32m-> 1375\u001b[0;31m       \u001b[0mlayer\u001b[0m \u001b[0;34m=\u001b[0m \u001b[0mx\u001b[0m\u001b[0;34m.\u001b[0m\u001b[0m_keras_history\u001b[0m\u001b[0;34m.\u001b[0m\u001b[0mlayer\u001b[0m\u001b[0;34m\u001b[0m\u001b[0;34m\u001b[0m\u001b[0m\n\u001b[0m\u001b[1;32m   1376\u001b[0m       if len(layer._inbound_nodes) > 1 or (\n\u001b[1;32m   1377\u001b[0m           layer._inbound_nodes and layer._inbound_nodes[0].inbound_layers):\n",
            "\u001b[0;31mAttributeError\u001b[0m: 'tuple' object has no attribute 'layer'"
          ]
        }
      ]
    },
    {
      "cell_type": "code",
      "metadata": {
        "id": "qx-GMwrmXurb",
        "colab_type": "code",
        "colab": {}
      },
      "source": [
        ""
      ],
      "execution_count": null,
      "outputs": []
    }
  ]
}